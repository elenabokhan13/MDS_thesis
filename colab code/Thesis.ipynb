{
  "cells": [
    {
      "cell_type": "markdown",
      "source": [
        "#Preparation"
      ],
      "metadata": {
        "id": "0rvtu6863Yz7"
      }
    },
    {
      "cell_type": "code",
      "source": [
        "!pip install ipython-autotime\n",
        "%load_ext autotime"
      ],
      "metadata": {
        "colab": {
          "base_uri": "https://localhost:8080/"
        },
        "id": "vD1D4wUHxRAc",
        "outputId": "22401ad8-7644-4cd4-a877-6e27d36d279f"
      },
      "execution_count": 1,
      "outputs": [
        {
          "output_type": "stream",
          "name": "stdout",
          "text": [
            "Collecting ipython-autotime\n",
            "  Downloading ipython_autotime-0.3.2-py2.py3-none-any.whl.metadata (1.4 kB)\n",
            "Requirement already satisfied: ipython in /usr/local/lib/python3.11/dist-packages (from ipython-autotime) (7.34.0)\n",
            "Requirement already satisfied: setuptools>=18.5 in /usr/local/lib/python3.11/dist-packages (from ipython->ipython-autotime) (75.2.0)\n",
            "Collecting jedi>=0.16 (from ipython->ipython-autotime)\n",
            "  Downloading jedi-0.19.2-py2.py3-none-any.whl.metadata (22 kB)\n",
            "Requirement already satisfied: decorator in /usr/local/lib/python3.11/dist-packages (from ipython->ipython-autotime) (4.4.2)\n",
            "Requirement already satisfied: pickleshare in /usr/local/lib/python3.11/dist-packages (from ipython->ipython-autotime) (0.7.5)\n",
            "Requirement already satisfied: traitlets>=4.2 in /usr/local/lib/python3.11/dist-packages (from ipython->ipython-autotime) (5.7.1)\n",
            "Requirement already satisfied: prompt-toolkit!=3.0.0,!=3.0.1,<3.1.0,>=2.0.0 in /usr/local/lib/python3.11/dist-packages (from ipython->ipython-autotime) (3.0.50)\n",
            "Requirement already satisfied: pygments in /usr/local/lib/python3.11/dist-packages (from ipython->ipython-autotime) (2.18.0)\n",
            "Requirement already satisfied: backcall in /usr/local/lib/python3.11/dist-packages (from ipython->ipython-autotime) (0.2.0)\n",
            "Requirement already satisfied: matplotlib-inline in /usr/local/lib/python3.11/dist-packages (from ipython->ipython-autotime) (0.1.7)\n",
            "Requirement already satisfied: pexpect>4.3 in /usr/local/lib/python3.11/dist-packages (from ipython->ipython-autotime) (4.9.0)\n",
            "Requirement already satisfied: parso<0.9.0,>=0.8.4 in /usr/local/lib/python3.11/dist-packages (from jedi>=0.16->ipython->ipython-autotime) (0.8.4)\n",
            "Requirement already satisfied: ptyprocess>=0.5 in /usr/local/lib/python3.11/dist-packages (from pexpect>4.3->ipython->ipython-autotime) (0.7.0)\n",
            "Requirement already satisfied: wcwidth in /usr/local/lib/python3.11/dist-packages (from prompt-toolkit!=3.0.0,!=3.0.1,<3.1.0,>=2.0.0->ipython->ipython-autotime) (0.2.13)\n",
            "Downloading ipython_autotime-0.3.2-py2.py3-none-any.whl (7.0 kB)\n",
            "Downloading jedi-0.19.2-py2.py3-none-any.whl (1.6 MB)\n",
            "\u001b[2K   \u001b[90m━━━━━━━━━━━━━━━━━━━━━━━━━━━━━━━━━━━━━━━━\u001b[0m \u001b[32m1.6/1.6 MB\u001b[0m \u001b[31m19.2 MB/s\u001b[0m eta \u001b[36m0:00:00\u001b[0m\n",
            "\u001b[?25hInstalling collected packages: jedi, ipython-autotime\n",
            "Successfully installed ipython-autotime-0.3.2 jedi-0.19.2\n",
            "time: 426 µs (started: 2025-04-15 09:53:21 +00:00)\n"
          ]
        }
      ]
    },
    {
      "cell_type": "code",
      "execution_count": 2,
      "metadata": {
        "id": "TD1SUfapU9L6",
        "colab": {
          "base_uri": "https://localhost:8080/"
        },
        "outputId": "d0d8771a-c453-48bd-fadb-dee5546ae85d"
      },
      "outputs": [
        {
          "output_type": "stream",
          "name": "stdout",
          "text": [
            "time: 13.4 s (started: 2025-04-15 09:53:21 +00:00)\n"
          ]
        }
      ],
      "source": [
        "# Import libraries that I would need later\n",
        "\n",
        "import numpy as np\n",
        "import pandas as pd\n",
        "import matplotlib.pyplot as plt\n",
        "import matplotlib.ticker as ticker\n",
        "from sklearn.feature_extraction.text import TfidfVectorizer\n",
        "from sklearn.linear_model import LogisticRegressionCV\n",
        "from sklearn.linear_model import LogisticRegression\n",
        "from sklearn.naive_bayes import GaussianNB\n",
        "from sklearn.neighbors import KNeighborsClassifier\n",
        "from sklearn.neural_network import MLPClassifier\n",
        "from sklearn.svm import SVC\n",
        "from sklearn.tree import DecisionTreeClassifier\n",
        "from sklearn.ensemble import RandomForestClassifier\n",
        "from sklearn.metrics import accuracy_score, precision_score, recall_score, f1_score, confusion_matrix, roc_auc_score, roc_curve\n",
        "from sklearn.model_selection import GridSearchCV\n",
        "from sklearn.ensemble import VotingClassifier\n",
        "from sklearn.model_selection import train_test_split\n",
        "\n",
        "\n",
        "import torch\n",
        "import torch.nn as nn\n",
        "import torch.nn.functional as F\n",
        "from torch.autograd import Variable\n",
        "#import torchvision\n",
        "#import re\n",
        "#import os\n",
        "\n",
        "#import nltk\n",
        "#from nltk.tokenize import word_tokenize\n",
        "#from nltk import PorterStemmer\n",
        "#from nltk import WordNetLemmatizer\n",
        "#from nltk.corpus import stopwords\n",
        "\n",
        "#from sklearn.feature_extraction.text import CountVectorizer\n",
        "#from sklearn.model_selection import train_test_split"
      ]
    },
    {
      "cell_type": "code",
      "execution_count": 3,
      "metadata": {
        "id": "2yt0kRYCU9L_",
        "colab": {
          "base_uri": "https://localhost:8080/"
        },
        "outputId": "d379e977-ed64-4bd2-9d2c-7e4e4258f212"
      },
      "outputs": [
        {
          "output_type": "stream",
          "name": "stdout",
          "text": [
            "time: 181 ms (started: 2025-04-15 09:53:34 +00:00)\n"
          ]
        }
      ],
      "source": [
        "# Process the files with data to put them all into one dataframe\n",
        "\n",
        "one_data = pd.read_csv('Youtube01-Psy.csv')\n",
        "two_data = pd.read_csv('Youtube02-KatyPerry.csv')\n",
        "three_data = pd.read_csv('Youtube03-LMFAO.csv')\n",
        "four_data = pd.read_csv('Youtube04-Eminem.csv')\n",
        "five_data = pd.read_csv('Youtube05-Shakira.csv')\n",
        "\n",
        "data = pd.concat([one_data, two_data, three_data, four_data, five_data], axis=0, ignore_index=True)\n"
      ]
    },
    {
      "cell_type": "code",
      "source": [
        "data"
      ],
      "metadata": {
        "colab": {
          "base_uri": "https://localhost:8080/",
          "height": 441
        },
        "id": "Ncc-4OTYkJGi",
        "outputId": "637185f7-6896-47d4-e97d-d0fbd914c09b"
      },
      "execution_count": 4,
      "outputs": [
        {
          "output_type": "execute_result",
          "data": {
            "text/plain": [
              "                                       COMMENT_ID                AUTHOR  \\\n",
              "0     LZQPQhLyRh80UYxNuaDWhIGQYNQ96IuCg-AYWqNPjpU             Julius NM   \n",
              "1     LZQPQhLyRh_C2cTtd9MvFRJedxydaVW-2sNg5Diuo4A           adam riyati   \n",
              "2     LZQPQhLyRh9MSZYnf8djyk0gEF9BHDPYrrK-qCczIY8      Evgeny Murashkin   \n",
              "3             z13jhp0bxqncu512g22wvzkasxmvvzjaz04       ElNino Melendez   \n",
              "4             z13fwbwp1oujthgqj04chlngpvzmtt3r3dw                GsMega   \n",
              "...                                           ...                   ...   \n",
              "1951  _2viQ_Qnc6-bMSjqyL1NKj57ROicCSJV5SwTrw-RFFA          Katie Mettam   \n",
              "1952  _2viQ_Qnc6-pY-1yR6K2FhmC5i48-WuNx5CumlHLDAI  Sabina Pearson-Smith   \n",
              "1953  _2viQ_Qnc6_k_n_Bse9zVhJP8tJReZpo8uM2uZfnzDs         jeffrey jules   \n",
              "1954  _2viQ_Qnc6_yBt8UGMWyg3vh0PulTqcqyQtdE7d4Fl0        Aishlin Maciel   \n",
              "1955  _2viQ_Qnc685RPw1aSa1tfrIuHXRvAQ2rPT9R06KTqA           Latin Bosch   \n",
              "\n",
              "                            DATE  \\\n",
              "0            2013-11-07T06:20:48   \n",
              "1            2013-11-07T12:37:15   \n",
              "2            2013-11-08T17:34:21   \n",
              "3            2013-11-09T08:28:43   \n",
              "4            2013-11-10T16:05:38   \n",
              "...                          ...   \n",
              "1951  2013-07-13T13:27:39.441000   \n",
              "1952  2013-07-13T13:14:30.021000   \n",
              "1953  2013-07-13T12:09:31.188000   \n",
              "1954  2013-07-13T11:17:52.308000   \n",
              "1955  2013-07-12T22:33:27.916000   \n",
              "\n",
              "                                                CONTENT  CLASS  \n",
              "0     Huh, anyway check out this you[tube] channel: ...      1  \n",
              "1     Hey guys check out my new channel and our firs...      1  \n",
              "2                just for test I have to say murdev.com      1  \n",
              "3      me shaking my sexy ass on my channel enjoy ^_^ ﻿      1  \n",
              "4               watch?v=vtaRGgvGtWQ   Check this out .﻿      1  \n",
              "...                                                 ...    ...  \n",
              "1951  I love this song because we sing it at Camp al...      0  \n",
              "1952  I love this song for two reasons: 1.it is abou...      0  \n",
              "1953                                                wow      0  \n",
              "1954                            Shakira u are so wiredo      0  \n",
              "1955                         Shakira is the best dancer      0  \n",
              "\n",
              "[1956 rows x 5 columns]"
            ],
            "text/html": [
              "\n",
              "  <div id=\"df-2bc15dba-42e1-46df-9556-55aa70978f83\" class=\"colab-df-container\">\n",
              "    <div>\n",
              "<style scoped>\n",
              "    .dataframe tbody tr th:only-of-type {\n",
              "        vertical-align: middle;\n",
              "    }\n",
              "\n",
              "    .dataframe tbody tr th {\n",
              "        vertical-align: top;\n",
              "    }\n",
              "\n",
              "    .dataframe thead th {\n",
              "        text-align: right;\n",
              "    }\n",
              "</style>\n",
              "<table border=\"1\" class=\"dataframe\">\n",
              "  <thead>\n",
              "    <tr style=\"text-align: right;\">\n",
              "      <th></th>\n",
              "      <th>COMMENT_ID</th>\n",
              "      <th>AUTHOR</th>\n",
              "      <th>DATE</th>\n",
              "      <th>CONTENT</th>\n",
              "      <th>CLASS</th>\n",
              "    </tr>\n",
              "  </thead>\n",
              "  <tbody>\n",
              "    <tr>\n",
              "      <th>0</th>\n",
              "      <td>LZQPQhLyRh80UYxNuaDWhIGQYNQ96IuCg-AYWqNPjpU</td>\n",
              "      <td>Julius NM</td>\n",
              "      <td>2013-11-07T06:20:48</td>\n",
              "      <td>Huh, anyway check out this you[tube] channel: ...</td>\n",
              "      <td>1</td>\n",
              "    </tr>\n",
              "    <tr>\n",
              "      <th>1</th>\n",
              "      <td>LZQPQhLyRh_C2cTtd9MvFRJedxydaVW-2sNg5Diuo4A</td>\n",
              "      <td>adam riyati</td>\n",
              "      <td>2013-11-07T12:37:15</td>\n",
              "      <td>Hey guys check out my new channel and our firs...</td>\n",
              "      <td>1</td>\n",
              "    </tr>\n",
              "    <tr>\n",
              "      <th>2</th>\n",
              "      <td>LZQPQhLyRh9MSZYnf8djyk0gEF9BHDPYrrK-qCczIY8</td>\n",
              "      <td>Evgeny Murashkin</td>\n",
              "      <td>2013-11-08T17:34:21</td>\n",
              "      <td>just for test I have to say murdev.com</td>\n",
              "      <td>1</td>\n",
              "    </tr>\n",
              "    <tr>\n",
              "      <th>3</th>\n",
              "      <td>z13jhp0bxqncu512g22wvzkasxmvvzjaz04</td>\n",
              "      <td>ElNino Melendez</td>\n",
              "      <td>2013-11-09T08:28:43</td>\n",
              "      <td>me shaking my sexy ass on my channel enjoy ^_^ ﻿</td>\n",
              "      <td>1</td>\n",
              "    </tr>\n",
              "    <tr>\n",
              "      <th>4</th>\n",
              "      <td>z13fwbwp1oujthgqj04chlngpvzmtt3r3dw</td>\n",
              "      <td>GsMega</td>\n",
              "      <td>2013-11-10T16:05:38</td>\n",
              "      <td>watch?v=vtaRGgvGtWQ   Check this out .﻿</td>\n",
              "      <td>1</td>\n",
              "    </tr>\n",
              "    <tr>\n",
              "      <th>...</th>\n",
              "      <td>...</td>\n",
              "      <td>...</td>\n",
              "      <td>...</td>\n",
              "      <td>...</td>\n",
              "      <td>...</td>\n",
              "    </tr>\n",
              "    <tr>\n",
              "      <th>1951</th>\n",
              "      <td>_2viQ_Qnc6-bMSjqyL1NKj57ROicCSJV5SwTrw-RFFA</td>\n",
              "      <td>Katie Mettam</td>\n",
              "      <td>2013-07-13T13:27:39.441000</td>\n",
              "      <td>I love this song because we sing it at Camp al...</td>\n",
              "      <td>0</td>\n",
              "    </tr>\n",
              "    <tr>\n",
              "      <th>1952</th>\n",
              "      <td>_2viQ_Qnc6-pY-1yR6K2FhmC5i48-WuNx5CumlHLDAI</td>\n",
              "      <td>Sabina Pearson-Smith</td>\n",
              "      <td>2013-07-13T13:14:30.021000</td>\n",
              "      <td>I love this song for two reasons: 1.it is abou...</td>\n",
              "      <td>0</td>\n",
              "    </tr>\n",
              "    <tr>\n",
              "      <th>1953</th>\n",
              "      <td>_2viQ_Qnc6_k_n_Bse9zVhJP8tJReZpo8uM2uZfnzDs</td>\n",
              "      <td>jeffrey jules</td>\n",
              "      <td>2013-07-13T12:09:31.188000</td>\n",
              "      <td>wow</td>\n",
              "      <td>0</td>\n",
              "    </tr>\n",
              "    <tr>\n",
              "      <th>1954</th>\n",
              "      <td>_2viQ_Qnc6_yBt8UGMWyg3vh0PulTqcqyQtdE7d4Fl0</td>\n",
              "      <td>Aishlin Maciel</td>\n",
              "      <td>2013-07-13T11:17:52.308000</td>\n",
              "      <td>Shakira u are so wiredo</td>\n",
              "      <td>0</td>\n",
              "    </tr>\n",
              "    <tr>\n",
              "      <th>1955</th>\n",
              "      <td>_2viQ_Qnc685RPw1aSa1tfrIuHXRvAQ2rPT9R06KTqA</td>\n",
              "      <td>Latin Bosch</td>\n",
              "      <td>2013-07-12T22:33:27.916000</td>\n",
              "      <td>Shakira is the best dancer</td>\n",
              "      <td>0</td>\n",
              "    </tr>\n",
              "  </tbody>\n",
              "</table>\n",
              "<p>1956 rows × 5 columns</p>\n",
              "</div>\n",
              "    <div class=\"colab-df-buttons\">\n",
              "\n",
              "  <div class=\"colab-df-container\">\n",
              "    <button class=\"colab-df-convert\" onclick=\"convertToInteractive('df-2bc15dba-42e1-46df-9556-55aa70978f83')\"\n",
              "            title=\"Convert this dataframe to an interactive table.\"\n",
              "            style=\"display:none;\">\n",
              "\n",
              "  <svg xmlns=\"http://www.w3.org/2000/svg\" height=\"24px\" viewBox=\"0 -960 960 960\">\n",
              "    <path d=\"M120-120v-720h720v720H120Zm60-500h600v-160H180v160Zm220 220h160v-160H400v160Zm0 220h160v-160H400v160ZM180-400h160v-160H180v160Zm440 0h160v-160H620v160ZM180-180h160v-160H180v160Zm440 0h160v-160H620v160Z\"/>\n",
              "  </svg>\n",
              "    </button>\n",
              "\n",
              "  <style>\n",
              "    .colab-df-container {\n",
              "      display:flex;\n",
              "      gap: 12px;\n",
              "    }\n",
              "\n",
              "    .colab-df-convert {\n",
              "      background-color: #E8F0FE;\n",
              "      border: none;\n",
              "      border-radius: 50%;\n",
              "      cursor: pointer;\n",
              "      display: none;\n",
              "      fill: #1967D2;\n",
              "      height: 32px;\n",
              "      padding: 0 0 0 0;\n",
              "      width: 32px;\n",
              "    }\n",
              "\n",
              "    .colab-df-convert:hover {\n",
              "      background-color: #E2EBFA;\n",
              "      box-shadow: 0px 1px 2px rgba(60, 64, 67, 0.3), 0px 1px 3px 1px rgba(60, 64, 67, 0.15);\n",
              "      fill: #174EA6;\n",
              "    }\n",
              "\n",
              "    .colab-df-buttons div {\n",
              "      margin-bottom: 4px;\n",
              "    }\n",
              "\n",
              "    [theme=dark] .colab-df-convert {\n",
              "      background-color: #3B4455;\n",
              "      fill: #D2E3FC;\n",
              "    }\n",
              "\n",
              "    [theme=dark] .colab-df-convert:hover {\n",
              "      background-color: #434B5C;\n",
              "      box-shadow: 0px 1px 3px 1px rgba(0, 0, 0, 0.15);\n",
              "      filter: drop-shadow(0px 1px 2px rgba(0, 0, 0, 0.3));\n",
              "      fill: #FFFFFF;\n",
              "    }\n",
              "  </style>\n",
              "\n",
              "    <script>\n",
              "      const buttonEl =\n",
              "        document.querySelector('#df-2bc15dba-42e1-46df-9556-55aa70978f83 button.colab-df-convert');\n",
              "      buttonEl.style.display =\n",
              "        google.colab.kernel.accessAllowed ? 'block' : 'none';\n",
              "\n",
              "      async function convertToInteractive(key) {\n",
              "        const element = document.querySelector('#df-2bc15dba-42e1-46df-9556-55aa70978f83');\n",
              "        const dataTable =\n",
              "          await google.colab.kernel.invokeFunction('convertToInteractive',\n",
              "                                                    [key], {});\n",
              "        if (!dataTable) return;\n",
              "\n",
              "        const docLinkHtml = 'Like what you see? Visit the ' +\n",
              "          '<a target=\"_blank\" href=https://colab.research.google.com/notebooks/data_table.ipynb>data table notebook</a>'\n",
              "          + ' to learn more about interactive tables.';\n",
              "        element.innerHTML = '';\n",
              "        dataTable['output_type'] = 'display_data';\n",
              "        await google.colab.output.renderOutput(dataTable, element);\n",
              "        const docLink = document.createElement('div');\n",
              "        docLink.innerHTML = docLinkHtml;\n",
              "        element.appendChild(docLink);\n",
              "      }\n",
              "    </script>\n",
              "  </div>\n",
              "\n",
              "\n",
              "<div id=\"df-5a493286-3ba0-4ca3-8ec5-807deab7491b\">\n",
              "  <button class=\"colab-df-quickchart\" onclick=\"quickchart('df-5a493286-3ba0-4ca3-8ec5-807deab7491b')\"\n",
              "            title=\"Suggest charts\"\n",
              "            style=\"display:none;\">\n",
              "\n",
              "<svg xmlns=\"http://www.w3.org/2000/svg\" height=\"24px\"viewBox=\"0 0 24 24\"\n",
              "     width=\"24px\">\n",
              "    <g>\n",
              "        <path d=\"M19 3H5c-1.1 0-2 .9-2 2v14c0 1.1.9 2 2 2h14c1.1 0 2-.9 2-2V5c0-1.1-.9-2-2-2zM9 17H7v-7h2v7zm4 0h-2V7h2v10zm4 0h-2v-4h2v4z\"/>\n",
              "    </g>\n",
              "</svg>\n",
              "  </button>\n",
              "\n",
              "<style>\n",
              "  .colab-df-quickchart {\n",
              "      --bg-color: #E8F0FE;\n",
              "      --fill-color: #1967D2;\n",
              "      --hover-bg-color: #E2EBFA;\n",
              "      --hover-fill-color: #174EA6;\n",
              "      --disabled-fill-color: #AAA;\n",
              "      --disabled-bg-color: #DDD;\n",
              "  }\n",
              "\n",
              "  [theme=dark] .colab-df-quickchart {\n",
              "      --bg-color: #3B4455;\n",
              "      --fill-color: #D2E3FC;\n",
              "      --hover-bg-color: #434B5C;\n",
              "      --hover-fill-color: #FFFFFF;\n",
              "      --disabled-bg-color: #3B4455;\n",
              "      --disabled-fill-color: #666;\n",
              "  }\n",
              "\n",
              "  .colab-df-quickchart {\n",
              "    background-color: var(--bg-color);\n",
              "    border: none;\n",
              "    border-radius: 50%;\n",
              "    cursor: pointer;\n",
              "    display: none;\n",
              "    fill: var(--fill-color);\n",
              "    height: 32px;\n",
              "    padding: 0;\n",
              "    width: 32px;\n",
              "  }\n",
              "\n",
              "  .colab-df-quickchart:hover {\n",
              "    background-color: var(--hover-bg-color);\n",
              "    box-shadow: 0 1px 2px rgba(60, 64, 67, 0.3), 0 1px 3px 1px rgba(60, 64, 67, 0.15);\n",
              "    fill: var(--button-hover-fill-color);\n",
              "  }\n",
              "\n",
              "  .colab-df-quickchart-complete:disabled,\n",
              "  .colab-df-quickchart-complete:disabled:hover {\n",
              "    background-color: var(--disabled-bg-color);\n",
              "    fill: var(--disabled-fill-color);\n",
              "    box-shadow: none;\n",
              "  }\n",
              "\n",
              "  .colab-df-spinner {\n",
              "    border: 2px solid var(--fill-color);\n",
              "    border-color: transparent;\n",
              "    border-bottom-color: var(--fill-color);\n",
              "    animation:\n",
              "      spin 1s steps(1) infinite;\n",
              "  }\n",
              "\n",
              "  @keyframes spin {\n",
              "    0% {\n",
              "      border-color: transparent;\n",
              "      border-bottom-color: var(--fill-color);\n",
              "      border-left-color: var(--fill-color);\n",
              "    }\n",
              "    20% {\n",
              "      border-color: transparent;\n",
              "      border-left-color: var(--fill-color);\n",
              "      border-top-color: var(--fill-color);\n",
              "    }\n",
              "    30% {\n",
              "      border-color: transparent;\n",
              "      border-left-color: var(--fill-color);\n",
              "      border-top-color: var(--fill-color);\n",
              "      border-right-color: var(--fill-color);\n",
              "    }\n",
              "    40% {\n",
              "      border-color: transparent;\n",
              "      border-right-color: var(--fill-color);\n",
              "      border-top-color: var(--fill-color);\n",
              "    }\n",
              "    60% {\n",
              "      border-color: transparent;\n",
              "      border-right-color: var(--fill-color);\n",
              "    }\n",
              "    80% {\n",
              "      border-color: transparent;\n",
              "      border-right-color: var(--fill-color);\n",
              "      border-bottom-color: var(--fill-color);\n",
              "    }\n",
              "    90% {\n",
              "      border-color: transparent;\n",
              "      border-bottom-color: var(--fill-color);\n",
              "    }\n",
              "  }\n",
              "</style>\n",
              "\n",
              "  <script>\n",
              "    async function quickchart(key) {\n",
              "      const quickchartButtonEl =\n",
              "        document.querySelector('#' + key + ' button');\n",
              "      quickchartButtonEl.disabled = true;  // To prevent multiple clicks.\n",
              "      quickchartButtonEl.classList.add('colab-df-spinner');\n",
              "      try {\n",
              "        const charts = await google.colab.kernel.invokeFunction(\n",
              "            'suggestCharts', [key], {});\n",
              "      } catch (error) {\n",
              "        console.error('Error during call to suggestCharts:', error);\n",
              "      }\n",
              "      quickchartButtonEl.classList.remove('colab-df-spinner');\n",
              "      quickchartButtonEl.classList.add('colab-df-quickchart-complete');\n",
              "    }\n",
              "    (() => {\n",
              "      let quickchartButtonEl =\n",
              "        document.querySelector('#df-5a493286-3ba0-4ca3-8ec5-807deab7491b button');\n",
              "      quickchartButtonEl.style.display =\n",
              "        google.colab.kernel.accessAllowed ? 'block' : 'none';\n",
              "    })();\n",
              "  </script>\n",
              "</div>\n",
              "    </div>\n",
              "  </div>\n"
            ],
            "application/vnd.google.colaboratory.intrinsic+json": {
              "type": "dataframe",
              "variable_name": "data",
              "summary": "{\n  \"name\": \"data\",\n  \"rows\": 1956,\n  \"fields\": [\n    {\n      \"column\": \"COMMENT_ID\",\n      \"properties\": {\n        \"dtype\": \"string\",\n        \"num_unique_values\": 1953,\n        \"samples\": [\n          \"z135ihwjrofccvbzu04cehzp3prte5jyccg\",\n          \"LneaDw26bFvv8RbyHRBDnA-4Bb1lhF9UlpzJf_5FkWM\",\n          \"z124vlmbks2nybpou04cfv4i3vawebsxeic\"\n        ],\n        \"semantic_type\": \"\",\n        \"description\": \"\"\n      }\n    },\n    {\n      \"column\": \"AUTHOR\",\n      \"properties\": {\n        \"dtype\": \"string\",\n        \"num_unique_values\": 1792,\n        \"samples\": [\n          \"ELPaso1990TX\",\n          \"Daniel Istrati\",\n          \"Brittany Tennyson\"\n        ],\n        \"semantic_type\": \"\",\n        \"description\": \"\"\n      }\n    },\n    {\n      \"column\": \"DATE\",\n      \"properties\": {\n        \"dtype\": \"string\",\n        \"num_unique_values\": 1709,\n        \"samples\": [\n          \"2014-10-16T12:24:32\",\n          \"2015-05-19T15:23:47.680000\",\n          \"2014-12-10T16:28:43.637000\"\n        ],\n        \"semantic_type\": \"\",\n        \"description\": \"\"\n      }\n    },\n    {\n      \"column\": \"CONTENT\",\n      \"properties\": {\n        \"dtype\": \"string\",\n        \"num_unique_values\": 1760,\n        \"samples\": [\n          \"EVERYONE GO AND SHARE youtu  be/ARkglzjQuP0 ON FB,TWITTER,G+ TO VOTE FOR EMINEM TO BECOME ARTIST OF THE YEAR ON FIRST EVER YOUTUBE MUSIC AWARDS !!!  AND GET THIS METHOD TO CHEAT AT INTERNET ROULETTE OUT OF EMINEMS VIDEO ! SHADY ARTIST OF THE YEAR !\",\n          \"EVERYONE PLEASE GO SUBSCRIBE TO MY CHANNEL OR JUST LOON AT MY VIDEOS\\ufeff\",\n          \"good!!\"\n        ],\n        \"semantic_type\": \"\",\n        \"description\": \"\"\n      }\n    },\n    {\n      \"column\": \"CLASS\",\n      \"properties\": {\n        \"dtype\": \"number\",\n        \"std\": 0,\n        \"min\": 0,\n        \"max\": 1,\n        \"num_unique_values\": 2,\n        \"samples\": [\n          0,\n          1\n        ],\n        \"semantic_type\": \"\",\n        \"description\": \"\"\n      }\n    }\n  ]\n}"
            }
          },
          "metadata": {},
          "execution_count": 4
        },
        {
          "output_type": "stream",
          "name": "stdout",
          "text": [
            "time: 358 ms (started: 2025-04-15 09:53:35 +00:00)\n"
          ]
        }
      ]
    },
    {
      "cell_type": "markdown",
      "source": [
        "#Preprocessing"
      ],
      "metadata": {
        "id": "lBWO0i87EgIe"
      }
    },
    {
      "cell_type": "code",
      "source": [
        "# Shuffle the data and split it into train and test using sklearn method\n",
        "\n",
        "X = data['CONTENT']\n",
        "y = data['CLASS']\n",
        "\n",
        "X_train, X_test, y_train, y_test = train_test_split(\n",
        "    X, y, test_size=0.20, random_state=42)"
      ],
      "metadata": {
        "colab": {
          "base_uri": "https://localhost:8080/"
        },
        "id": "jnDn0l6bhJCF",
        "outputId": "afbf6a43-95c1-46df-b78f-7646bc5307ed"
      },
      "execution_count": 5,
      "outputs": [
        {
          "output_type": "stream",
          "name": "stdout",
          "text": [
            "time: 11 ms (started: 2025-04-15 09:53:35 +00:00)\n"
          ]
        }
      ]
    },
    {
      "cell_type": "code",
      "execution_count": 6,
      "metadata": {
        "id": "2DFiB_EyU9MB",
        "colab": {
          "base_uri": "https://localhost:8080/"
        },
        "outputId": "12b2c6c3-5619-484d-f1c9-cc5c0ef89845"
      },
      "outputs": [
        {
          "output_type": "stream",
          "name": "stdout",
          "text": [
            "(1564, 4454)\n",
            "[[0. 0. 0. ... 0. 0. 0.]\n",
            " [0. 0. 0. ... 0. 0. 0.]\n",
            " [0. 0. 0. ... 0. 0. 0.]\n",
            " ...\n",
            " [0. 0. 0. ... 0. 0. 0.]\n",
            " [0. 0. 0. ... 0. 0. 0.]\n",
            " [0. 0. 0. ... 0. 0. 0.]]\n",
            "(392, 4454)\n",
            "[[0. 0. 0. ... 0. 0. 0.]\n",
            " [0. 0. 0. ... 0. 0. 0.]\n",
            " [0. 0. 0. ... 0. 0. 0.]\n",
            " ...\n",
            " [0. 0. 0. ... 0. 0. 0.]\n",
            " [0. 0. 0. ... 0. 0. 0.]\n",
            " [0. 0. 0. ... 0. 0. 0.]]\n",
            "time: 278 ms (started: 2025-04-15 09:53:35 +00:00)\n"
          ]
        }
      ],
      "source": [
        "# Reshape comments using vectorizer\n",
        "\n",
        "corpus = X\n",
        "\n",
        "vectorizer = TfidfVectorizer(stop_words=None).fit(corpus)\n",
        "\n",
        "v_train=vectorizer.transform(X_train)\n",
        "print(v_train.shape)\n",
        "print(v_train.toarray())\n",
        "\n",
        "v_test=vectorizer.transform(X_test)\n",
        "print(v_test.shape)\n",
        "print(v_test.toarray())\n"
      ]
    },
    {
      "cell_type": "markdown",
      "source": [
        "#Logistic Regression"
      ],
      "metadata": {
        "id": "qY3MOMYXFdCA"
      }
    },
    {
      "cell_type": "code",
      "execution_count": 7,
      "metadata": {
        "id": "OdcuH1tCU9MC",
        "colab": {
          "base_uri": "https://localhost:8080/"
        },
        "outputId": "b069cb9f-8875-4835-e05c-b8a58f50a72b"
      },
      "outputs": [
        {
          "output_type": "stream",
          "name": "stdout",
          "text": [
            "lambda=1/Cs, so the auc_roc score for log_10(lambda) value from [-5,-4,...,5]=\n",
            " [0.98914971 0.98914971 0.98914971 0.98914976 0.9885369  0.98480955\n",
            " 0.97795174 0.96870643 0.96573103 0.96542033 0.96537945]\n",
            "The max auc_roc: 0.9891497634547312\n",
            "The max auc_roc when lambda= 0.01\n",
            "time: 818 ms (started: 2025-04-15 09:53:35 +00:00)\n"
          ]
        },
        {
          "output_type": "stream",
          "name": "stderr",
          "text": [
            "<ipython-input-7-afa849f0cab4>:10: DeprecationWarning: Conversion of an array with ndim > 0 to a scalar is deprecated, and will error in future. Ensure you extract a single element from your array before performing this operation. (Deprecated NumPy 1.25.)\n",
            "  i=int(i[0])\n"
          ]
        }
      ],
      "source": [
        "# Using Logistic Regression, determine the best lambda value\n",
        "\n",
        "clf = LogisticRegressionCV(Cs=list(np.power(10.0, np.arange(5, -6, -1))), cv=5, penalty='l2', scoring='roc_auc',\n",
        "                           solver='newton-cg', max_iter=30000, random_state=0).fit(v_train, y_train)\n",
        "\n",
        "print('lambda=1/Cs, so the auc_roc score for log_10(lambda) value from [-5,-4,...,5]=\\n',clf.scores_[1].mean(axis=0))\n",
        "print('The max auc_roc:', clf.scores_[1].mean(axis=0).max())\n",
        "\n",
        "i=np.where(clf.scores_[1].mean(axis=0)==clf.scores_[1].mean(axis=0).max())\n",
        "i=int(i[0])\n",
        "Cs=list(np.power(10.0, np.arange(5, -6, -1)))\n",
        "Cs_select=Cs[i]\n",
        "print('The max auc_roc when lambda=',1/Cs[i])"
      ]
    },
    {
      "cell_type": "code",
      "execution_count": 8,
      "metadata": {
        "id": "NzxIJPckU9MC",
        "colab": {
          "base_uri": "https://localhost:8080/",
          "height": 1000
        },
        "outputId": "38fd2619-ed41-47c7-9595-f306862621db"
      },
      "outputs": [
        {
          "output_type": "stream",
          "name": "stdout",
          "text": [
            "Confusion Table for train:\n"
          ]
        },
        {
          "output_type": "display_data",
          "data": {
            "text/plain": [
              "<pandas.io.formats.style.Styler at 0x7f01298cfa10>"
            ],
            "text/html": [
              "<style type=\"text/css\">\n",
              "#T_9b6cb_row0_col0, #T_9b6cb_row1_col1 {\n",
              "  background-color: lightblue;\n",
              "}\n",
              "</style>\n",
              "<table id=\"T_9b6cb\" class=\"dataframe\">\n",
              "  <thead>\n",
              "    <tr>\n",
              "      <th class=\"blank level0\" >&nbsp;</th>\n",
              "      <th id=\"T_9b6cb_level0_col0\" class=\"col_heading level0 col0\" >Predicted Positive</th>\n",
              "      <th id=\"T_9b6cb_level0_col1\" class=\"col_heading level0 col1\" >Predicted Negative</th>\n",
              "    </tr>\n",
              "  </thead>\n",
              "  <tbody>\n",
              "    <tr>\n",
              "      <th id=\"T_9b6cb_level0_row0\" class=\"row_heading level0 row0\" >Actual Positive</th>\n",
              "      <td id=\"T_9b6cb_row0_col0\" class=\"data row0 col0\" >775</td>\n",
              "      <td id=\"T_9b6cb_row0_col1\" class=\"data row0 col1\" >0</td>\n",
              "    </tr>\n",
              "    <tr>\n",
              "      <th id=\"T_9b6cb_level0_row1\" class=\"row_heading level0 row1\" >Actual Negative</th>\n",
              "      <td id=\"T_9b6cb_row1_col0\" class=\"data row1 col0\" >0</td>\n",
              "      <td id=\"T_9b6cb_row1_col1\" class=\"data row1 col1\" >789</td>\n",
              "    </tr>\n",
              "  </tbody>\n",
              "</table>\n"
            ]
          },
          "metadata": {}
        },
        {
          "output_type": "stream",
          "name": "stdout",
          "text": [
            " \n",
            " \n",
            " \n",
            " \n",
            "Confusion table for test:\n"
          ]
        },
        {
          "output_type": "display_data",
          "data": {
            "text/plain": [
              "<pandas.io.formats.style.Styler at 0x7f012a39ff10>"
            ],
            "text/html": [
              "<style type=\"text/css\">\n",
              "#T_7e5c8_row0_col0, #T_7e5c8_row1_col1 {\n",
              "  background-color: lightblue;\n",
              "}\n",
              "</style>\n",
              "<table id=\"T_7e5c8\" class=\"dataframe\">\n",
              "  <thead>\n",
              "    <tr>\n",
              "      <th class=\"blank level0\" >&nbsp;</th>\n",
              "      <th id=\"T_7e5c8_level0_col0\" class=\"col_heading level0 col0\" >Predicted Positive</th>\n",
              "      <th id=\"T_7e5c8_level0_col1\" class=\"col_heading level0 col1\" >Predicted Negative</th>\n",
              "    </tr>\n",
              "  </thead>\n",
              "  <tbody>\n",
              "    <tr>\n",
              "      <th id=\"T_7e5c8_level0_row0\" class=\"row_heading level0 row0\" >Actual Positive</th>\n",
              "      <td id=\"T_7e5c8_row0_col0\" class=\"data row0 col0\" >172</td>\n",
              "      <td id=\"T_7e5c8_row0_col1\" class=\"data row0 col1\" >4</td>\n",
              "    </tr>\n",
              "    <tr>\n",
              "      <th id=\"T_7e5c8_level0_row1\" class=\"row_heading level0 row1\" >Actual Negative</th>\n",
              "      <td id=\"T_7e5c8_row1_col0\" class=\"data row1 col0\" >16</td>\n",
              "      <td id=\"T_7e5c8_row1_col1\" class=\"data row1 col1\" >200</td>\n",
              "    </tr>\n",
              "  </tbody>\n",
              "</table>\n"
            ]
          },
          "metadata": {}
        },
        {
          "output_type": "stream",
          "name": "stdout",
          "text": [
            " \n",
            " \n",
            " \n",
            " \n",
            "Metrics for Logistic Regression:\n"
          ]
        },
        {
          "output_type": "display_data",
          "data": {
            "text/plain": [
              "<pandas.io.formats.style.Styler at 0x7f01299578d0>"
            ],
            "text/html": [
              "<style type=\"text/css\">\n",
              "#T_6ab6d_row0_col0, #T_6ab6d_row0_col1, #T_6ab6d_row0_col2, #T_6ab6d_row0_col3, #T_6ab6d_row0_col4 {\n",
              "  background-color: lightgreen;\n",
              "}\n",
              "</style>\n",
              "<table id=\"T_6ab6d\" class=\"dataframe\">\n",
              "  <thead>\n",
              "    <tr>\n",
              "      <th class=\"blank level0\" >&nbsp;</th>\n",
              "      <th id=\"T_6ab6d_level0_col0\" class=\"col_heading level0 col0\" >Accuracy</th>\n",
              "      <th id=\"T_6ab6d_level0_col1\" class=\"col_heading level0 col1\" >Precision</th>\n",
              "      <th id=\"T_6ab6d_level0_col2\" class=\"col_heading level0 col2\" >Recall</th>\n",
              "      <th id=\"T_6ab6d_level0_col3\" class=\"col_heading level0 col3\" >F1</th>\n",
              "      <th id=\"T_6ab6d_level0_col4\" class=\"col_heading level0 col4\" >AUC</th>\n",
              "    </tr>\n",
              "  </thead>\n",
              "  <tbody>\n",
              "    <tr>\n",
              "      <th id=\"T_6ab6d_level0_row0\" class=\"row_heading level0 row0\" >Train</th>\n",
              "      <td id=\"T_6ab6d_row0_col0\" class=\"data row0 col0\" >1.000000</td>\n",
              "      <td id=\"T_6ab6d_row0_col1\" class=\"data row0 col1\" >1.000000</td>\n",
              "      <td id=\"T_6ab6d_row0_col2\" class=\"data row0 col2\" >1.000000</td>\n",
              "      <td id=\"T_6ab6d_row0_col3\" class=\"data row0 col3\" >1.000000</td>\n",
              "      <td id=\"T_6ab6d_row0_col4\" class=\"data row0 col4\" >1.000000</td>\n",
              "    </tr>\n",
              "    <tr>\n",
              "      <th id=\"T_6ab6d_level0_row1\" class=\"row_heading level0 row1\" >Test</th>\n",
              "      <td id=\"T_6ab6d_row1_col0\" class=\"data row1 col0\" >0.948980</td>\n",
              "      <td id=\"T_6ab6d_row1_col1\" class=\"data row1 col1\" >0.980392</td>\n",
              "      <td id=\"T_6ab6d_row1_col2\" class=\"data row1 col2\" >0.925926</td>\n",
              "      <td id=\"T_6ab6d_row1_col3\" class=\"data row1 col3\" >0.952381</td>\n",
              "      <td id=\"T_6ab6d_row1_col4\" class=\"data row1 col4\" >0.951599</td>\n",
              "    </tr>\n",
              "  </tbody>\n",
              "</table>\n"
            ]
          },
          "metadata": {}
        },
        {
          "output_type": "stream",
          "name": "stdout",
          "text": [
            " \n",
            " \n",
            " \n",
            " \n"
          ]
        },
        {
          "output_type": "display_data",
          "data": {
            "text/plain": [
              "<Figure size 640x480 with 1 Axes>"
            ],
            "image/png": "[encoded data removed]"
          },
          "metadata": {}
        },
        {
          "output_type": "stream",
          "name": "stdout",
          "text": [
            "time: 861 ms (started: 2025-04-15 09:53:36 +00:00)\n"
          ]
        }
      ],
      "source": [
        "# Train Logistic Regression using the optimal lambda\n",
        "\n",
        "precisions = []\n",
        "F1 = []\n",
        "train_error = []\n",
        "recall = []\n",
        "AUC = []\n",
        "accuracy = []\n",
        "\n",
        "clf = LogisticRegression(random_state=0, C=Cs_select, penalty='l2', max_iter=30000).fit(v_train, y_train)\n",
        "y_train_pred=clf.predict(v_train)\n",
        "y_pred = clf.predict(v_test)\n",
        "\n",
        "# Confusion Matrix\n",
        "cm0 = confusion_matrix(y_train, y_train_pred)\n",
        "cm = confusion_matrix(y_test, y_pred)\n",
        "\n",
        "# Accuracy\n",
        "accuracy.append(accuracy_score(y_train, y_train_pred))\n",
        "accuracy.append(accuracy_score(y_test, y_pred))\n",
        "\n",
        "# Precision\n",
        "precisions.append(precision_score(y_train, y_train_pred))\n",
        "precisions.append(precision_score(y_test, y_pred))\n",
        "\n",
        "# Recall\n",
        "recall.append(recall_score(y_train, y_train_pred))\n",
        "recall.append(recall_score(y_test, y_pred))\n",
        "\n",
        "#F1 score\n",
        "F1.append(f1_score(y_train, y_train_pred))\n",
        "F1.append(f1_score(y_test, y_pred))\n",
        "\n",
        "# AUC\n",
        "AUC.append(roc_auc_score(y_train, y_train_pred))\n",
        "AUC.append(roc_auc_score(y_test, y_pred))\n",
        "\n",
        " # ROC\n",
        "fpr0, tpr0, thresholds0 = roc_curve(y_train, y_train_pred)\n",
        "fpr, tpr, thresholds = roc_curve(y_test, y_pred)\n",
        "plt.plot(fpr0, tpr0, '#2178b5', label='ROC for Training')\n",
        "plt.plot(fpr, tpr, '#ff8f2c', label='ROC for Test')\n",
        "plt.legend()\n",
        "\n",
        "plt.title('ROC curve')\n",
        "plt.xlabel('False Positive Rate')\n",
        "plt.ylabel('True Positive Rate')\n",
        "\n",
        "print('Confusion Table for train:')\n",
        "headings = ['Predicted Positive', 'Predicted Negative']\n",
        "names = ['Actual Positive', 'Actual Negative']\n",
        "df = pd.DataFrame(cm0, index=names, columns=headings)\n",
        "display(df.style.highlight_max(color = 'lightblue', axis = 0))\n",
        "\n",
        "print(' ')\n",
        "print(' ')\n",
        "print(' ')\n",
        "print(' ')\n",
        "print('Confusion table for test:')\n",
        "headings = ['Predicted Positive', 'Predicted Negative']\n",
        "names = ['Actual Positive', 'Actual Negative']\n",
        "df = pd.DataFrame(cm, index=names, columns=headings)\n",
        "display(df.style.highlight_max(color = 'lightblue', axis = 0))\n",
        "\n",
        "print(' ')\n",
        "print(' ')\n",
        "print(' ')\n",
        "print(' ')\n",
        "print('Metrics for Logistic Regression:')\n",
        "headings = ['Accuracy', 'Precision', 'Recall', 'F1', 'AUC']\n",
        "names = ['Train','Test']\n",
        "numpy_data=np.array([accuracy, precisions, recall, F1, AUC]).T\n",
        "df = pd.DataFrame(data=numpy_data, index=names, columns=headings)\n",
        "display(df.style.highlight_max(color = 'lightgreen', axis = 0))\n",
        "print(' ')\n",
        "print(' ')\n",
        "print(' ')\n",
        "print(' ')"
      ]
    },
    {
      "cell_type": "markdown",
      "metadata": {
        "id": "WNdfudBinj7T"
      },
      "source": [
        "#Gaussian Naive Bayes"
      ]
    },
    {
      "cell_type": "code",
      "execution_count": 9,
      "metadata": {
        "colab": {
          "base_uri": "https://localhost:8080/",
          "height": 1000
        },
        "id": "OEQWmBBcU9ME",
        "outputId": "c7c41fca-da14-40f3-913a-8b3a0e2b70ba"
      },
      "outputs": [
        {
          "output_type": "stream",
          "name": "stdout",
          "text": [
            "Confusion Table for train:\n"
          ]
        },
        {
          "output_type": "display_data",
          "data": {
            "text/plain": [
              "<pandas.io.formats.style.Styler at 0x7f0129765bd0>"
            ],
            "text/html": [
              "<style type=\"text/css\">\n",
              "#T_d41d9_row0_col0, #T_d41d9_row1_col1 {\n",
              "  background-color: lightblue;\n",
              "}\n",
              "</style>\n",
              "<table id=\"T_d41d9\" class=\"dataframe\">\n",
              "  <thead>\n",
              "    <tr>\n",
              "      <th class=\"blank level0\" >&nbsp;</th>\n",
              "      <th id=\"T_d41d9_level0_col0\" class=\"col_heading level0 col0\" >Predicted Positive</th>\n",
              "      <th id=\"T_d41d9_level0_col1\" class=\"col_heading level0 col1\" >Predicted Negative</th>\n",
              "    </tr>\n",
              "  </thead>\n",
              "  <tbody>\n",
              "    <tr>\n",
              "      <th id=\"T_d41d9_level0_row0\" class=\"row_heading level0 row0\" >Actual Positive</th>\n",
              "      <td id=\"T_d41d9_row0_col0\" class=\"data row0 col0\" >775</td>\n",
              "      <td id=\"T_d41d9_row0_col1\" class=\"data row0 col1\" >0</td>\n",
              "    </tr>\n",
              "    <tr>\n",
              "      <th id=\"T_d41d9_level0_row1\" class=\"row_heading level0 row1\" >Actual Negative</th>\n",
              "      <td id=\"T_d41d9_row1_col0\" class=\"data row1 col0\" >109</td>\n",
              "      <td id=\"T_d41d9_row1_col1\" class=\"data row1 col1\" >680</td>\n",
              "    </tr>\n",
              "  </tbody>\n",
              "</table>\n"
            ]
          },
          "metadata": {}
        },
        {
          "output_type": "stream",
          "name": "stdout",
          "text": [
            " \n",
            " \n",
            " \n",
            " \n",
            "Confusion table for test:\n"
          ]
        },
        {
          "output_type": "display_data",
          "data": {
            "text/plain": [
              "<pandas.io.formats.style.Styler at 0x7f01297ca1d0>"
            ],
            "text/html": [
              "<style type=\"text/css\">\n",
              "#T_59d9d_row0_col0, #T_59d9d_row1_col1 {\n",
              "  background-color: lightblue;\n",
              "}\n",
              "</style>\n",
              "<table id=\"T_59d9d\" class=\"dataframe\">\n",
              "  <thead>\n",
              "    <tr>\n",
              "      <th class=\"blank level0\" >&nbsp;</th>\n",
              "      <th id=\"T_59d9d_level0_col0\" class=\"col_heading level0 col0\" >Predicted Positive</th>\n",
              "      <th id=\"T_59d9d_level0_col1\" class=\"col_heading level0 col1\" >Predicted Negative</th>\n",
              "    </tr>\n",
              "  </thead>\n",
              "  <tbody>\n",
              "    <tr>\n",
              "      <th id=\"T_59d9d_level0_row0\" class=\"row_heading level0 row0\" >Actual Positive</th>\n",
              "      <td id=\"T_59d9d_row0_col0\" class=\"data row0 col0\" >143</td>\n",
              "      <td id=\"T_59d9d_row0_col1\" class=\"data row0 col1\" >33</td>\n",
              "    </tr>\n",
              "    <tr>\n",
              "      <th id=\"T_59d9d_level0_row1\" class=\"row_heading level0 row1\" >Actual Negative</th>\n",
              "      <td id=\"T_59d9d_row1_col0\" class=\"data row1 col0\" >51</td>\n",
              "      <td id=\"T_59d9d_row1_col1\" class=\"data row1 col1\" >165</td>\n",
              "    </tr>\n",
              "  </tbody>\n",
              "</table>\n"
            ]
          },
          "metadata": {}
        },
        {
          "output_type": "stream",
          "name": "stdout",
          "text": [
            " \n",
            " \n",
            " \n",
            " \n",
            "Metrics for GaussianNB:\n"
          ]
        },
        {
          "output_type": "display_data",
          "data": {
            "text/plain": [
              "<pandas.io.formats.style.Styler at 0x7f012960c890>"
            ],
            "text/html": [
              "<style type=\"text/css\">\n",
              "#T_2095b_row0_col0, #T_2095b_row0_col1, #T_2095b_row0_col2, #T_2095b_row0_col3, #T_2095b_row0_col4 {\n",
              "  background-color: lightgreen;\n",
              "}\n",
              "</style>\n",
              "<table id=\"T_2095b\" class=\"dataframe\">\n",
              "  <thead>\n",
              "    <tr>\n",
              "      <th class=\"blank level0\" >&nbsp;</th>\n",
              "      <th id=\"T_2095b_level0_col0\" class=\"col_heading level0 col0\" >Accuracy</th>\n",
              "      <th id=\"T_2095b_level0_col1\" class=\"col_heading level0 col1\" >Precision</th>\n",
              "      <th id=\"T_2095b_level0_col2\" class=\"col_heading level0 col2\" >Recall</th>\n",
              "      <th id=\"T_2095b_level0_col3\" class=\"col_heading level0 col3\" >F1</th>\n",
              "      <th id=\"T_2095b_level0_col4\" class=\"col_heading level0 col4\" >AUC</th>\n",
              "    </tr>\n",
              "  </thead>\n",
              "  <tbody>\n",
              "    <tr>\n",
              "      <th id=\"T_2095b_level0_row0\" class=\"row_heading level0 row0\" >Train</th>\n",
              "      <td id=\"T_2095b_row0_col0\" class=\"data row0 col0\" >0.930307</td>\n",
              "      <td id=\"T_2095b_row0_col1\" class=\"data row0 col1\" >1.000000</td>\n",
              "      <td id=\"T_2095b_row0_col2\" class=\"data row0 col2\" >0.861850</td>\n",
              "      <td id=\"T_2095b_row0_col3\" class=\"data row0 col3\" >0.925800</td>\n",
              "      <td id=\"T_2095b_row0_col4\" class=\"data row0 col4\" >0.930925</td>\n",
              "    </tr>\n",
              "    <tr>\n",
              "      <th id=\"T_2095b_level0_row1\" class=\"row_heading level0 row1\" >Test</th>\n",
              "      <td id=\"T_2095b_row1_col0\" class=\"data row1 col0\" >0.785714</td>\n",
              "      <td id=\"T_2095b_row1_col1\" class=\"data row1 col1\" >0.833333</td>\n",
              "      <td id=\"T_2095b_row1_col2\" class=\"data row1 col2\" >0.763889</td>\n",
              "      <td id=\"T_2095b_row1_col3\" class=\"data row1 col3\" >0.797101</td>\n",
              "      <td id=\"T_2095b_row1_col4\" class=\"data row1 col4\" >0.788194</td>\n",
              "    </tr>\n",
              "  </tbody>\n",
              "</table>\n"
            ]
          },
          "metadata": {}
        },
        {
          "output_type": "stream",
          "name": "stdout",
          "text": [
            " \n",
            " \n",
            " \n",
            " \n"
          ]
        },
        {
          "output_type": "display_data",
          "data": {
            "text/plain": [
              "<Figure size 640x480 with 1 Axes>"
            ],
            "image/png": "[encoded data removed]"
          },
          "metadata": {}
        },
        {
          "output_type": "stream",
          "name": "stdout",
          "text": [
            "time: 1.2 s (started: 2025-04-15 09:53:37 +00:00)\n"
          ]
        }
      ],
      "source": [
        "# Build the model using Naive Bayes approach and calculate its metrics\n",
        "\n",
        "precisions = []\n",
        "F1 = []\n",
        "train_error = []\n",
        "recall = []\n",
        "AUC = []\n",
        "accuracy = []\n",
        "\n",
        "v_train_dense = v_train.toarray()\n",
        "v_test_dense = v_test.toarray()\n",
        "\n",
        "clf = GaussianNB().fit(v_train_dense, y_train)\n",
        "y_pred = clf.predict(v_test_dense)\n",
        "y_train_pred = clf.predict(v_train_dense)\n",
        "\n",
        "# Confusion Matrix\n",
        "cm0 = confusion_matrix(y_train, y_train_pred)\n",
        "cm = confusion_matrix(y_test, y_pred)\n",
        "\n",
        "# Accuracy\n",
        "accuracy.append(accuracy_score(y_train, y_train_pred))\n",
        "accuracy.append(accuracy_score(y_test, y_pred))\n",
        "\n",
        "# Precision\n",
        "precisions.append(precision_score(y_train, y_train_pred))\n",
        "precisions.append(precision_score(y_test, y_pred))\n",
        "\n",
        "# Recall\n",
        "recall.append(recall_score(y_train, y_train_pred))\n",
        "recall.append(recall_score(y_test, y_pred))\n",
        "\n",
        "#F1 score\n",
        "F1.append(f1_score(y_train, y_train_pred))\n",
        "F1.append(f1_score(y_test, y_pred))\n",
        "\n",
        "# AUC\n",
        "AUC.append(roc_auc_score(y_train, y_train_pred))\n",
        "AUC.append(roc_auc_score(y_test, y_pred))\n",
        "\n",
        " # ROC\n",
        "fpr0, tpr0, thresholds0 = roc_curve(y_train, y_train_pred)\n",
        "fpr, tpr, thresholds = roc_curve(y_test, y_pred)\n",
        "plt.plot(fpr0, tpr0, '#2178b5', label='ROC for Training')\n",
        "plt.plot(fpr, tpr, '#ff8f2c', label='ROC for Test')\n",
        "plt.legend()\n",
        "\n",
        "plt.title('ROC curve')\n",
        "plt.xlabel('False Positive Rate')\n",
        "plt.ylabel('True Positive Rate')\n",
        "\n",
        "print('Confusion Table for train:')\n",
        "headings = ['Predicted Positive', 'Predicted Negative']\n",
        "names = ['Actual Positive', 'Actual Negative']\n",
        "df = pd.DataFrame(cm0, index=names, columns=headings)\n",
        "display(df.style.highlight_max(color = 'lightblue', axis = 0))\n",
        "\n",
        "print(' ')\n",
        "print(' ')\n",
        "print(' ')\n",
        "print(' ')\n",
        "print('Confusion table for test:')\n",
        "headings = ['Predicted Positive', 'Predicted Negative']\n",
        "names = ['Actual Positive', 'Actual Negative']\n",
        "df = pd.DataFrame(cm, index=names, columns=headings)\n",
        "display(df.style.highlight_max(color = 'lightblue', axis = 0))\n",
        "\n",
        "print(' ')\n",
        "print(' ')\n",
        "print(' ')\n",
        "print(' ')\n",
        "print('Metrics for GaussianNB:')\n",
        "headings = ['Accuracy', 'Precision', 'Recall', 'F1', 'AUC']\n",
        "names = ['Train','Test']\n",
        "numpy_data=np.array([accuracy, precisions, recall, F1, AUC]).T\n",
        "df = pd.DataFrame(data=numpy_data, index=names, columns=headings)\n",
        "display(df.style.highlight_max(color = 'lightgreen', axis = 0))\n",
        "print(' ')\n",
        "print(' ')\n",
        "print(' ')\n",
        "print(' ')"
      ]
    },
    {
      "cell_type": "markdown",
      "source": [
        "#KNN Classifier"
      ],
      "metadata": {
        "id": "1oLg-zrl3a2o"
      }
    },
    {
      "cell_type": "code",
      "execution_count": 10,
      "metadata": {
        "id": "PrJqpIEkU9MH",
        "colab": {
          "base_uri": "https://localhost:8080/",
          "height": 1000
        },
        "outputId": "33ea70e0-a5d7-43e4-c349-866679b775ba"
      },
      "outputs": [
        {
          "output_type": "stream",
          "name": "stdout",
          "text": [
            "Best number of neigbors is  50\n",
            " \n",
            " \n",
            " \n",
            " \n",
            "Confusion Table for train:\n"
          ]
        },
        {
          "output_type": "display_data",
          "data": {
            "text/plain": [
              "<pandas.io.formats.style.Styler at 0x7f01299a7990>"
            ],
            "text/html": [
              "<style type=\"text/css\">\n",
              "#T_bc0f2_row0_col0, #T_bc0f2_row1_col1 {\n",
              "  background-color: lightblue;\n",
              "}\n",
              "</style>\n",
              "<table id=\"T_bc0f2\" class=\"dataframe\">\n",
              "  <thead>\n",
              "    <tr>\n",
              "      <th class=\"blank level0\" >&nbsp;</th>\n",
              "      <th id=\"T_bc0f2_level0_col0\" class=\"col_heading level0 col0\" >Predicted Positive</th>\n",
              "      <th id=\"T_bc0f2_level0_col1\" class=\"col_heading level0 col1\" >Predicted Negative</th>\n",
              "    </tr>\n",
              "  </thead>\n",
              "  <tbody>\n",
              "    <tr>\n",
              "      <th id=\"T_bc0f2_level0_row0\" class=\"row_heading level0 row0\" >Actual Positive</th>\n",
              "      <td id=\"T_bc0f2_row0_col0\" class=\"data row0 col0\" >685</td>\n",
              "      <td id=\"T_bc0f2_row0_col1\" class=\"data row0 col1\" >90</td>\n",
              "    </tr>\n",
              "    <tr>\n",
              "      <th id=\"T_bc0f2_level0_row1\" class=\"row_heading level0 row1\" >Actual Negative</th>\n",
              "      <td id=\"T_bc0f2_row1_col0\" class=\"data row1 col0\" >81</td>\n",
              "      <td id=\"T_bc0f2_row1_col1\" class=\"data row1 col1\" >708</td>\n",
              "    </tr>\n",
              "  </tbody>\n",
              "</table>\n"
            ]
          },
          "metadata": {}
        },
        {
          "output_type": "stream",
          "name": "stdout",
          "text": [
            " \n",
            " \n",
            " \n",
            " \n",
            "Confusion table for test:\n"
          ]
        },
        {
          "output_type": "display_data",
          "data": {
            "text/plain": [
              "<pandas.io.formats.style.Styler at 0x7f01296a6790>"
            ],
            "text/html": [
              "<style type=\"text/css\">\n",
              "#T_53f27_row0_col0, #T_53f27_row1_col1 {\n",
              "  background-color: lightblue;\n",
              "}\n",
              "</style>\n",
              "<table id=\"T_53f27\" class=\"dataframe\">\n",
              "  <thead>\n",
              "    <tr>\n",
              "      <th class=\"blank level0\" >&nbsp;</th>\n",
              "      <th id=\"T_53f27_level0_col0\" class=\"col_heading level0 col0\" >Predicted Positive</th>\n",
              "      <th id=\"T_53f27_level0_col1\" class=\"col_heading level0 col1\" >Predicted Negative</th>\n",
              "    </tr>\n",
              "  </thead>\n",
              "  <tbody>\n",
              "    <tr>\n",
              "      <th id=\"T_53f27_level0_row0\" class=\"row_heading level0 row0\" >Actual Positive</th>\n",
              "      <td id=\"T_53f27_row0_col0\" class=\"data row0 col0\" >159</td>\n",
              "      <td id=\"T_53f27_row0_col1\" class=\"data row0 col1\" >17</td>\n",
              "    </tr>\n",
              "    <tr>\n",
              "      <th id=\"T_53f27_level0_row1\" class=\"row_heading level0 row1\" >Actual Negative</th>\n",
              "      <td id=\"T_53f27_row1_col0\" class=\"data row1 col0\" >23</td>\n",
              "      <td id=\"T_53f27_row1_col1\" class=\"data row1 col1\" >193</td>\n",
              "    </tr>\n",
              "  </tbody>\n",
              "</table>\n"
            ]
          },
          "metadata": {}
        },
        {
          "output_type": "stream",
          "name": "stdout",
          "text": [
            " \n",
            " \n",
            " \n",
            " \n",
            "Metrics for KNN classifier:\n"
          ]
        },
        {
          "output_type": "display_data",
          "data": {
            "text/plain": [
              "<pandas.io.formats.style.Styler at 0x7f0129683cd0>"
            ],
            "text/html": [
              "<style type=\"text/css\">\n",
              "#T_e66f7_row0_col2, #T_e66f7_row1_col0, #T_e66f7_row1_col1, #T_e66f7_row1_col3, #T_e66f7_row1_col4 {\n",
              "  background-color: lightgreen;\n",
              "}\n",
              "</style>\n",
              "<table id=\"T_e66f7\" class=\"dataframe\">\n",
              "  <thead>\n",
              "    <tr>\n",
              "      <th class=\"blank level0\" >&nbsp;</th>\n",
              "      <th id=\"T_e66f7_level0_col0\" class=\"col_heading level0 col0\" >Accuracy</th>\n",
              "      <th id=\"T_e66f7_level0_col1\" class=\"col_heading level0 col1\" >Precision</th>\n",
              "      <th id=\"T_e66f7_level0_col2\" class=\"col_heading level0 col2\" >Recall</th>\n",
              "      <th id=\"T_e66f7_level0_col3\" class=\"col_heading level0 col3\" >F1</th>\n",
              "      <th id=\"T_e66f7_level0_col4\" class=\"col_heading level0 col4\" >AUC</th>\n",
              "    </tr>\n",
              "  </thead>\n",
              "  <tbody>\n",
              "    <tr>\n",
              "      <th id=\"T_e66f7_level0_row0\" class=\"row_heading level0 row0\" >Train</th>\n",
              "      <td id=\"T_e66f7_row0_col0\" class=\"data row0 col0\" >0.890665</td>\n",
              "      <td id=\"T_e66f7_row0_col1\" class=\"data row0 col1\" >0.887218</td>\n",
              "      <td id=\"T_e66f7_row0_col2\" class=\"data row0 col2\" >0.897338</td>\n",
              "      <td id=\"T_e66f7_row0_col3\" class=\"data row0 col3\" >0.892250</td>\n",
              "      <td id=\"T_e66f7_row0_col4\" class=\"data row0 col4\" >0.890605</td>\n",
              "    </tr>\n",
              "    <tr>\n",
              "      <th id=\"T_e66f7_level0_row1\" class=\"row_heading level0 row1\" >Test</th>\n",
              "      <td id=\"T_e66f7_row1_col0\" class=\"data row1 col0\" >0.897959</td>\n",
              "      <td id=\"T_e66f7_row1_col1\" class=\"data row1 col1\" >0.919048</td>\n",
              "      <td id=\"T_e66f7_row1_col2\" class=\"data row1 col2\" >0.893519</td>\n",
              "      <td id=\"T_e66f7_row1_col3\" class=\"data row1 col3\" >0.906103</td>\n",
              "      <td id=\"T_e66f7_row1_col4\" class=\"data row1 col4\" >0.898464</td>\n",
              "    </tr>\n",
              "  </tbody>\n",
              "</table>\n"
            ]
          },
          "metadata": {}
        },
        {
          "output_type": "stream",
          "name": "stdout",
          "text": [
            " \n",
            " \n",
            " \n",
            " \n"
          ]
        },
        {
          "output_type": "display_data",
          "data": {
            "text/plain": [
              "<Figure size 640x480 with 1 Axes>"
            ],
            "image/png": "[encoded data removed]"
          },
          "metadata": {}
        },
        {
          "output_type": "stream",
          "name": "stdout",
          "text": [
            "time: 17.6 s (started: 2025-04-15 09:53:38 +00:00)\n"
          ]
        }
      ],
      "source": [
        "# Search for the best number of neigbors, build KNN Classifier and test the model\n",
        "\n",
        "precisions = []\n",
        "F1 = []\n",
        "train_error = []\n",
        "recall = []\n",
        "AUC = []\n",
        "accuracy = []\n",
        "\n",
        "best_score = 0\n",
        "best_neigbors = 0\n",
        "\n",
        "for x in range(3, 100):\n",
        "  knn = KNeighborsClassifier(n_neighbors=x)\n",
        "  knn.fit(v_train, y_train)\n",
        "  y_train_pred = knn.predict(v_train)\n",
        "  score = accuracy_score(y_train, y_train_pred)\n",
        "\n",
        "  if score > best_score:\n",
        "    best_score = score\n",
        "    best_neigbors = x\n",
        "\n",
        "knn = KNeighborsClassifier(n_neighbors=best_neigbors)\n",
        "\n",
        "knn.fit(v_train, y_train)\n",
        "\n",
        "\n",
        "y_train_pred = knn.predict(v_train)\n",
        "\n",
        "\n",
        "y_pred = knn.predict(v_test)\n",
        "\n",
        "# Confusion Matrix\n",
        "cm0 = confusion_matrix(y_train, y_train_pred)\n",
        "cm = confusion_matrix(y_test, y_pred)\n",
        "\n",
        "# Accuracy\n",
        "accuracy.append(accuracy_score(y_train, y_train_pred))\n",
        "accuracy.append(accuracy_score(y_test, y_pred))\n",
        "\n",
        "# Precision\n",
        "precisions.append(precision_score(y_train, y_train_pred))\n",
        "precisions.append(precision_score(y_test, y_pred))\n",
        "\n",
        "# Recall\n",
        "recall.append(recall_score(y_train, y_train_pred))\n",
        "recall.append(recall_score(y_test, y_pred))\n",
        "\n",
        "#F1 score\n",
        "F1.append(f1_score(y_train, y_train_pred))\n",
        "F1.append(f1_score(y_test, y_pred))\n",
        "\n",
        "# AUC\n",
        "AUC.append(roc_auc_score(y_train, y_train_pred))\n",
        "AUC.append(roc_auc_score(y_test, y_pred))\n",
        "\n",
        " # ROC\n",
        "fpr0, tpr0, thresholds0 = roc_curve(y_train, y_train_pred)\n",
        "fpr, tpr, thresholds = roc_curve(y_test, y_pred)\n",
        "plt.plot(fpr0, tpr0, '#2178b5', label='ROC for Training')\n",
        "plt.plot(fpr, tpr, '#ff8f2c', label='ROC for Test')\n",
        "plt.legend()\n",
        "\n",
        "plt.title('ROC curve')\n",
        "plt.xlabel('False Positive Rate')\n",
        "plt.ylabel('True Positive Rate')\n",
        "\n",
        "print('Best number of neigbors is ', best_neigbors)\n",
        "print(' ')\n",
        "print(' ')\n",
        "print(' ')\n",
        "print(' ')\n",
        "\n",
        "print('Confusion Table for train:')\n",
        "headings = ['Predicted Positive', 'Predicted Negative']\n",
        "names = ['Actual Positive', 'Actual Negative']\n",
        "df = pd.DataFrame(cm0, index=names, columns=headings)\n",
        "display(df.style.highlight_max(color = 'lightblue', axis = 0))\n",
        "\n",
        "print(' ')\n",
        "print(' ')\n",
        "print(' ')\n",
        "print(' ')\n",
        "print('Confusion table for test:')\n",
        "headings = ['Predicted Positive', 'Predicted Negative']\n",
        "names = ['Actual Positive', 'Actual Negative']\n",
        "df = pd.DataFrame(cm, index=names, columns=headings)\n",
        "display(df.style.highlight_max(color = 'lightblue', axis = 0))\n",
        "\n",
        "print(' ')\n",
        "print(' ')\n",
        "print(' ')\n",
        "print(' ')\n",
        "print('Metrics for KNN classifier:')\n",
        "headings = ['Accuracy', 'Precision', 'Recall', 'F1', 'AUC']\n",
        "names = ['Train','Test']\n",
        "numpy_data=np.array([accuracy, precisions, recall, F1, AUC]).T\n",
        "df = pd.DataFrame(data=numpy_data, index=names, columns=headings)\n",
        "display(df.style.highlight_max(color = 'lightgreen', axis = 0))\n",
        "print(' ')\n",
        "print(' ')\n",
        "print(' ')\n",
        "print(' ')"
      ]
    },
    {
      "cell_type": "markdown",
      "source": [
        "#MLP Classifier"
      ],
      "metadata": {
        "id": "E2nMno46p0X-"
      }
    },
    {
      "cell_type": "code",
      "execution_count": 11,
      "metadata": {
        "id": "mKV6FDYkibYs",
        "colab": {
          "base_uri": "https://localhost:8080/",
          "height": 1000
        },
        "outputId": "0fe184a1-a8af-43b7-ecd8-0ad567693589"
      },
      "outputs": [
        {
          "output_type": "stream",
          "name": "stdout",
          "text": [
            "Confusion Table for train:\n"
          ]
        },
        {
          "output_type": "display_data",
          "data": {
            "text/plain": [
              "<pandas.io.formats.style.Styler at 0x7f01296e7990>"
            ],
            "text/html": [
              "<style type=\"text/css\">\n",
              "#T_58ad6_row0_col0, #T_58ad6_row1_col1 {\n",
              "  background-color: lightblue;\n",
              "}\n",
              "</style>\n",
              "<table id=\"T_58ad6\" class=\"dataframe\">\n",
              "  <thead>\n",
              "    <tr>\n",
              "      <th class=\"blank level0\" >&nbsp;</th>\n",
              "      <th id=\"T_58ad6_level0_col0\" class=\"col_heading level0 col0\" >Predicted Positive</th>\n",
              "      <th id=\"T_58ad6_level0_col1\" class=\"col_heading level0 col1\" >Predicted Negative</th>\n",
              "    </tr>\n",
              "  </thead>\n",
              "  <tbody>\n",
              "    <tr>\n",
              "      <th id=\"T_58ad6_level0_row0\" class=\"row_heading level0 row0\" >Actual Positive</th>\n",
              "      <td id=\"T_58ad6_row0_col0\" class=\"data row0 col0\" >775</td>\n",
              "      <td id=\"T_58ad6_row0_col1\" class=\"data row0 col1\" >0</td>\n",
              "    </tr>\n",
              "    <tr>\n",
              "      <th id=\"T_58ad6_level0_row1\" class=\"row_heading level0 row1\" >Actual Negative</th>\n",
              "      <td id=\"T_58ad6_row1_col0\" class=\"data row1 col0\" >0</td>\n",
              "      <td id=\"T_58ad6_row1_col1\" class=\"data row1 col1\" >789</td>\n",
              "    </tr>\n",
              "  </tbody>\n",
              "</table>\n"
            ]
          },
          "metadata": {}
        },
        {
          "output_type": "stream",
          "name": "stdout",
          "text": [
            " \n",
            " \n",
            " \n",
            " \n",
            "Confusion table for test:\n"
          ]
        },
        {
          "output_type": "display_data",
          "data": {
            "text/plain": [
              "<pandas.io.formats.style.Styler at 0x7f01297f3a10>"
            ],
            "text/html": [
              "<style type=\"text/css\">\n",
              "#T_f8df5_row0_col0, #T_f8df5_row1_col1 {\n",
              "  background-color: lightblue;\n",
              "}\n",
              "</style>\n",
              "<table id=\"T_f8df5\" class=\"dataframe\">\n",
              "  <thead>\n",
              "    <tr>\n",
              "      <th class=\"blank level0\" >&nbsp;</th>\n",
              "      <th id=\"T_f8df5_level0_col0\" class=\"col_heading level0 col0\" >Predicted Positive</th>\n",
              "      <th id=\"T_f8df5_level0_col1\" class=\"col_heading level0 col1\" >Predicted Negative</th>\n",
              "    </tr>\n",
              "  </thead>\n",
              "  <tbody>\n",
              "    <tr>\n",
              "      <th id=\"T_f8df5_level0_row0\" class=\"row_heading level0 row0\" >Actual Positive</th>\n",
              "      <td id=\"T_f8df5_row0_col0\" class=\"data row0 col0\" >170</td>\n",
              "      <td id=\"T_f8df5_row0_col1\" class=\"data row0 col1\" >6</td>\n",
              "    </tr>\n",
              "    <tr>\n",
              "      <th id=\"T_f8df5_level0_row1\" class=\"row_heading level0 row1\" >Actual Negative</th>\n",
              "      <td id=\"T_f8df5_row1_col0\" class=\"data row1 col0\" >21</td>\n",
              "      <td id=\"T_f8df5_row1_col1\" class=\"data row1 col1\" >195</td>\n",
              "    </tr>\n",
              "  </tbody>\n",
              "</table>\n"
            ]
          },
          "metadata": {}
        },
        {
          "output_type": "stream",
          "name": "stdout",
          "text": [
            " \n",
            " \n",
            " \n",
            " \n",
            "Metrics for MLP classifier:\n"
          ]
        },
        {
          "output_type": "display_data",
          "data": {
            "text/plain": [
              "<pandas.io.formats.style.Styler at 0x7f01296d9290>"
            ],
            "text/html": [
              "<style type=\"text/css\">\n",
              "#T_c7ad5_row0_col0, #T_c7ad5_row0_col1, #T_c7ad5_row0_col2, #T_c7ad5_row0_col3, #T_c7ad5_row0_col4 {\n",
              "  background-color: lightgreen;\n",
              "}\n",
              "</style>\n",
              "<table id=\"T_c7ad5\" class=\"dataframe\">\n",
              "  <thead>\n",
              "    <tr>\n",
              "      <th class=\"blank level0\" >&nbsp;</th>\n",
              "      <th id=\"T_c7ad5_level0_col0\" class=\"col_heading level0 col0\" >Accuracy</th>\n",
              "      <th id=\"T_c7ad5_level0_col1\" class=\"col_heading level0 col1\" >Precision</th>\n",
              "      <th id=\"T_c7ad5_level0_col2\" class=\"col_heading level0 col2\" >Recall</th>\n",
              "      <th id=\"T_c7ad5_level0_col3\" class=\"col_heading level0 col3\" >F1</th>\n",
              "      <th id=\"T_c7ad5_level0_col4\" class=\"col_heading level0 col4\" >AUC</th>\n",
              "    </tr>\n",
              "  </thead>\n",
              "  <tbody>\n",
              "    <tr>\n",
              "      <th id=\"T_c7ad5_level0_row0\" class=\"row_heading level0 row0\" >Train</th>\n",
              "      <td id=\"T_c7ad5_row0_col0\" class=\"data row0 col0\" >1.000000</td>\n",
              "      <td id=\"T_c7ad5_row0_col1\" class=\"data row0 col1\" >1.000000</td>\n",
              "      <td id=\"T_c7ad5_row0_col2\" class=\"data row0 col2\" >1.000000</td>\n",
              "      <td id=\"T_c7ad5_row0_col3\" class=\"data row0 col3\" >1.000000</td>\n",
              "      <td id=\"T_c7ad5_row0_col4\" class=\"data row0 col4\" >1.000000</td>\n",
              "    </tr>\n",
              "    <tr>\n",
              "      <th id=\"T_c7ad5_level0_row1\" class=\"row_heading level0 row1\" >Test</th>\n",
              "      <td id=\"T_c7ad5_row1_col0\" class=\"data row1 col0\" >0.931122</td>\n",
              "      <td id=\"T_c7ad5_row1_col1\" class=\"data row1 col1\" >0.970149</td>\n",
              "      <td id=\"T_c7ad5_row1_col2\" class=\"data row1 col2\" >0.902778</td>\n",
              "      <td id=\"T_c7ad5_row1_col3\" class=\"data row1 col3\" >0.935252</td>\n",
              "      <td id=\"T_c7ad5_row1_col4\" class=\"data row1 col4\" >0.934343</td>\n",
              "    </tr>\n",
              "  </tbody>\n",
              "</table>\n"
            ]
          },
          "metadata": {}
        },
        {
          "output_type": "stream",
          "name": "stdout",
          "text": [
            " \n",
            " \n",
            " \n",
            " \n"
          ]
        },
        {
          "output_type": "display_data",
          "data": {
            "text/plain": [
              "<Figure size 640x480 with 1 Axes>"
            ],
            "image/png": "[encoded data removed]"
          },
          "metadata": {}
        },
        {
          "output_type": "stream",
          "name": "stdout",
          "text": [
            "time: 29.7 s (started: 2025-04-15 09:53:56 +00:00)\n"
          ]
        }
      ],
      "source": [
        "# Build MLP Classifier with standard number of iterations\n",
        "\n",
        "precisions = []\n",
        "F1 = []\n",
        "train_error = []\n",
        "recall = []\n",
        "AUC = []\n",
        "accuracy = []\n",
        "\n",
        "mlp = MLPClassifier(hidden_layer_sizes=(220, 30), max_iter=200)\n",
        "\n",
        "mlp.fit(v_train, y_train)\n",
        "\n",
        "y_train_pred = mlp.predict(v_train)\n",
        "\n",
        "y_pred = mlp.predict(v_test)\n",
        "\n",
        "# Confusion Matrix\n",
        "cm0 = confusion_matrix(y_train, y_train_pred)\n",
        "cm = confusion_matrix(y_test, y_pred)\n",
        "\n",
        "# Accuracy\n",
        "accuracy.append(accuracy_score(y_train, y_train_pred))\n",
        "accuracy.append(accuracy_score(y_test, y_pred))\n",
        "\n",
        "# Precision\n",
        "precisions.append(precision_score(y_train, y_train_pred))\n",
        "precisions.append(precision_score(y_test, y_pred))\n",
        "\n",
        "# Recall\n",
        "recall.append(recall_score(y_train, y_train_pred))\n",
        "recall.append(recall_score(y_test, y_pred))\n",
        "\n",
        "#F1 score\n",
        "F1.append(f1_score(y_train, y_train_pred))\n",
        "F1.append(f1_score(y_test, y_pred))\n",
        "\n",
        "# AUC\n",
        "AUC.append(roc_auc_score(y_train, y_train_pred))\n",
        "AUC.append(roc_auc_score(y_test, y_pred))\n",
        "\n",
        " # ROC\n",
        "fpr0, tpr0, thresholds0 = roc_curve(y_train, y_train_pred)\n",
        "fpr, tpr, thresholds = roc_curve(y_test, y_pred)\n",
        "plt.plot(fpr0, tpr0, '#2178b5', label='ROC for Training')\n",
        "plt.plot(fpr, tpr, '#ff8f2c', label='ROC for Test')\n",
        "plt.legend()\n",
        "\n",
        "plt.title('ROC curve')\n",
        "plt.xlabel('False Positive Rate')\n",
        "plt.ylabel('True Positive Rate')\n",
        "\n",
        "print('Confusion Table for train:')\n",
        "headings = ['Predicted Positive', 'Predicted Negative']\n",
        "names = ['Actual Positive', 'Actual Negative']\n",
        "df = pd.DataFrame(cm0, index=names, columns=headings)\n",
        "display(df.style.highlight_max(color = 'lightblue', axis = 0))\n",
        "\n",
        "print(' ')\n",
        "print(' ')\n",
        "print(' ')\n",
        "print(' ')\n",
        "print('Confusion table for test:')\n",
        "headings = ['Predicted Positive', 'Predicted Negative']\n",
        "names = ['Actual Positive', 'Actual Negative']\n",
        "df = pd.DataFrame(cm, index=names, columns=headings)\n",
        "display(df.style.highlight_max(color = 'lightblue', axis = 0))\n",
        "\n",
        "print(' ')\n",
        "print(' ')\n",
        "print(' ')\n",
        "print(' ')\n",
        "print('Metrics for MLP classifier:')\n",
        "headings = ['Accuracy', 'Precision', 'Recall', 'F1', 'AUC']\n",
        "names = ['Train','Test']\n",
        "numpy_data=np.array([accuracy, precisions, recall, F1, AUC]).T\n",
        "df = pd.DataFrame(data=numpy_data, index=names, columns=headings)\n",
        "display(df.style.highlight_max(color = 'lightgreen', axis = 0))\n",
        "print(' ')\n",
        "print(' ')\n",
        "print(' ')\n",
        "print(' ')\n"
      ]
    },
    {
      "cell_type": "markdown",
      "source": [
        "#SVM Classifier"
      ],
      "metadata": {
        "id": "b6agAOiErWTp"
      }
    },
    {
      "cell_type": "code",
      "execution_count": 12,
      "metadata": {
        "id": "yPW3o2B1waoY",
        "outputId": "1dde20b8-de92-428d-e1bc-f60035ec25a2",
        "colab": {
          "base_uri": "https://localhost:8080/",
          "height": 1000
        }
      },
      "outputs": [
        {
          "output_type": "stream",
          "name": "stdout",
          "text": [
            "Best C: 7\n",
            "Best gamma: 0.5\n",
            " \n",
            " \n",
            " \n",
            " \n",
            "Confusion Table for train:\n"
          ]
        },
        {
          "output_type": "display_data",
          "data": {
            "text/plain": [
              "<pandas.io.formats.style.Styler at 0x7f01296d8e90>"
            ],
            "text/html": [
              "<style type=\"text/css\">\n",
              "#T_fb482_row0_col0, #T_fb482_row1_col1 {\n",
              "  background-color: lightblue;\n",
              "}\n",
              "</style>\n",
              "<table id=\"T_fb482\" class=\"dataframe\">\n",
              "  <thead>\n",
              "    <tr>\n",
              "      <th class=\"blank level0\" >&nbsp;</th>\n",
              "      <th id=\"T_fb482_level0_col0\" class=\"col_heading level0 col0\" >Predicted Positive</th>\n",
              "      <th id=\"T_fb482_level0_col1\" class=\"col_heading level0 col1\" >Predicted Negative</th>\n",
              "    </tr>\n",
              "  </thead>\n",
              "  <tbody>\n",
              "    <tr>\n",
              "      <th id=\"T_fb482_level0_row0\" class=\"row_heading level0 row0\" >Actual Positive</th>\n",
              "      <td id=\"T_fb482_row0_col0\" class=\"data row0 col0\" >775</td>\n",
              "      <td id=\"T_fb482_row0_col1\" class=\"data row0 col1\" >0</td>\n",
              "    </tr>\n",
              "    <tr>\n",
              "      <th id=\"T_fb482_level0_row1\" class=\"row_heading level0 row1\" >Actual Negative</th>\n",
              "      <td id=\"T_fb482_row1_col0\" class=\"data row1 col0\" >0</td>\n",
              "      <td id=\"T_fb482_row1_col1\" class=\"data row1 col1\" >789</td>\n",
              "    </tr>\n",
              "  </tbody>\n",
              "</table>\n"
            ]
          },
          "metadata": {}
        },
        {
          "output_type": "stream",
          "name": "stdout",
          "text": [
            " \n",
            " \n",
            " \n",
            " \n",
            "Confusion table for test:\n"
          ]
        },
        {
          "output_type": "display_data",
          "data": {
            "text/plain": [
              "<pandas.io.formats.style.Styler at 0x7f01297424d0>"
            ],
            "text/html": [
              "<style type=\"text/css\">\n",
              "#T_089a8_row0_col0, #T_089a8_row1_col1 {\n",
              "  background-color: lightblue;\n",
              "}\n",
              "</style>\n",
              "<table id=\"T_089a8\" class=\"dataframe\">\n",
              "  <thead>\n",
              "    <tr>\n",
              "      <th class=\"blank level0\" >&nbsp;</th>\n",
              "      <th id=\"T_089a8_level0_col0\" class=\"col_heading level0 col0\" >Predicted Positive</th>\n",
              "      <th id=\"T_089a8_level0_col1\" class=\"col_heading level0 col1\" >Predicted Negative</th>\n",
              "    </tr>\n",
              "  </thead>\n",
              "  <tbody>\n",
              "    <tr>\n",
              "      <th id=\"T_089a8_level0_row0\" class=\"row_heading level0 row0\" >Actual Positive</th>\n",
              "      <td id=\"T_089a8_row0_col0\" class=\"data row0 col0\" >173</td>\n",
              "      <td id=\"T_089a8_row0_col1\" class=\"data row0 col1\" >3</td>\n",
              "    </tr>\n",
              "    <tr>\n",
              "      <th id=\"T_089a8_level0_row1\" class=\"row_heading level0 row1\" >Actual Negative</th>\n",
              "      <td id=\"T_089a8_row1_col0\" class=\"data row1 col0\" >19</td>\n",
              "      <td id=\"T_089a8_row1_col1\" class=\"data row1 col1\" >197</td>\n",
              "    </tr>\n",
              "  </tbody>\n",
              "</table>\n"
            ]
          },
          "metadata": {}
        },
        {
          "output_type": "stream",
          "name": "stdout",
          "text": [
            " \n",
            " \n",
            " \n",
            " \n",
            "Metrics for MLP classifier:\n"
          ]
        },
        {
          "output_type": "display_data",
          "data": {
            "text/plain": [
              "<pandas.io.formats.style.Styler at 0x7f0129668fd0>"
            ],
            "text/html": [
              "<style type=\"text/css\">\n",
              "#T_589bc_row0_col0, #T_589bc_row0_col1, #T_589bc_row0_col2, #T_589bc_row0_col3, #T_589bc_row0_col4 {\n",
              "  background-color: lightgreen;\n",
              "}\n",
              "</style>\n",
              "<table id=\"T_589bc\" class=\"dataframe\">\n",
              "  <thead>\n",
              "    <tr>\n",
              "      <th class=\"blank level0\" >&nbsp;</th>\n",
              "      <th id=\"T_589bc_level0_col0\" class=\"col_heading level0 col0\" >Accuracy</th>\n",
              "      <th id=\"T_589bc_level0_col1\" class=\"col_heading level0 col1\" >Precision</th>\n",
              "      <th id=\"T_589bc_level0_col2\" class=\"col_heading level0 col2\" >Recall</th>\n",
              "      <th id=\"T_589bc_level0_col3\" class=\"col_heading level0 col3\" >F1</th>\n",
              "      <th id=\"T_589bc_level0_col4\" class=\"col_heading level0 col4\" >AUC</th>\n",
              "    </tr>\n",
              "  </thead>\n",
              "  <tbody>\n",
              "    <tr>\n",
              "      <th id=\"T_589bc_level0_row0\" class=\"row_heading level0 row0\" >Train</th>\n",
              "      <td id=\"T_589bc_row0_col0\" class=\"data row0 col0\" >1.000000</td>\n",
              "      <td id=\"T_589bc_row0_col1\" class=\"data row0 col1\" >1.000000</td>\n",
              "      <td id=\"T_589bc_row0_col2\" class=\"data row0 col2\" >1.000000</td>\n",
              "      <td id=\"T_589bc_row0_col3\" class=\"data row0 col3\" >1.000000</td>\n",
              "      <td id=\"T_589bc_row0_col4\" class=\"data row0 col4\" >1.000000</td>\n",
              "    </tr>\n",
              "    <tr>\n",
              "      <th id=\"T_589bc_level0_row1\" class=\"row_heading level0 row1\" >Test</th>\n",
              "      <td id=\"T_589bc_row1_col0\" class=\"data row1 col0\" >0.943878</td>\n",
              "      <td id=\"T_589bc_row1_col1\" class=\"data row1 col1\" >0.985000</td>\n",
              "      <td id=\"T_589bc_row1_col2\" class=\"data row1 col2\" >0.912037</td>\n",
              "      <td id=\"T_589bc_row1_col3\" class=\"data row1 col3\" >0.947115</td>\n",
              "      <td id=\"T_589bc_row1_col4\" class=\"data row1 col4\" >0.947496</td>\n",
              "    </tr>\n",
              "  </tbody>\n",
              "</table>\n"
            ]
          },
          "metadata": {}
        },
        {
          "output_type": "stream",
          "name": "stdout",
          "text": [
            " \n",
            " \n",
            " \n",
            " \n"
          ]
        },
        {
          "output_type": "display_data",
          "data": {
            "text/plain": [
              "<Figure size 640x480 with 1 Axes>"
            ],
            "image/png": "[encoded data removed]"
          },
          "metadata": {}
        },
        {
          "output_type": "stream",
          "name": "stdout",
          "text": [
            "time: 1min 52s (started: 2025-04-15 09:54:26 +00:00)\n"
          ]
        }
      ],
      "source": [
        "# Build SVM classifier using Grid Search\n",
        "\n",
        "precisions = []\n",
        "F1 = []\n",
        "train_error = []\n",
        "recall = []\n",
        "AUC = []\n",
        "accuracy = []\n",
        "\n",
        "# Parameter grid for grid search\n",
        "param_grid = {\n",
        "    'C': [0.1, 0.5, 1, 1.5, 3, 5, 7, 10, 12, 20],\n",
        "    'gamma': [0.1, 0.5, 1, 3, 6, 10, 12]\n",
        "}\n",
        "\n",
        "\n",
        "svm = SVC()\n",
        "\n",
        "# Perform grid search to find the best hyperparameters\n",
        "grid_search = GridSearchCV(svm, param_grid, cv=5)\n",
        "grid_search.fit(v_train, y_train)\n",
        "\n",
        "\n",
        "best_C = grid_search.best_params_['C']\n",
        "best_gamma = grid_search.best_params_['gamma']\n",
        "\n",
        "print(\"Best C:\", best_C)\n",
        "print(\"Best gamma:\", best_gamma)\n",
        "print(' ')\n",
        "print(' ')\n",
        "print(' ')\n",
        "print(' ')\n",
        "\n",
        "svm_best = SVC(C=best_C, gamma=best_gamma)\n",
        "\n",
        "svm_best.fit(v_train, y_train)\n",
        "\n",
        "y_train_pred = svm_best.predict(v_train)\n",
        "\n",
        "y_pred = svm_best.predict(v_test)\n",
        "\n",
        "# Confusion Matrix\n",
        "cm0 = confusion_matrix(y_train, y_train_pred)\n",
        "cm = confusion_matrix(y_test, y_pred)\n",
        "\n",
        "# Accuracy\n",
        "accuracy.append(accuracy_score(y_train, y_train_pred))\n",
        "accuracy.append(accuracy_score(y_test, y_pred))\n",
        "\n",
        "# Precision\n",
        "precisions.append(precision_score(y_train, y_train_pred))\n",
        "precisions.append(precision_score(y_test, y_pred))\n",
        "\n",
        "# Recall\n",
        "recall.append(recall_score(y_train, y_train_pred))\n",
        "recall.append(recall_score(y_test, y_pred))\n",
        "\n",
        "#F1 score\n",
        "F1.append(f1_score(y_train, y_train_pred))\n",
        "F1.append(f1_score(y_test, y_pred))\n",
        "\n",
        "# AUC\n",
        "AUC.append(roc_auc_score(y_train, y_train_pred))\n",
        "AUC.append(roc_auc_score(y_test, y_pred))\n",
        "\n",
        " # ROC\n",
        "fpr0, tpr0, thresholds0 = roc_curve(y_train, y_train_pred)\n",
        "fpr, tpr, thresholds = roc_curve(y_test, y_pred)\n",
        "plt.plot(fpr0, tpr0, '#2178b5', label='ROC for Training')\n",
        "plt.plot(fpr, tpr, '#ff8f2c', label='ROC for Test')\n",
        "plt.legend()\n",
        "\n",
        "plt.title('ROC curve')\n",
        "plt.xlabel('False Positive Rate')\n",
        "plt.ylabel('True Positive Rate')\n",
        "\n",
        "print('Confusion Table for train:')\n",
        "headings = ['Predicted Positive', 'Predicted Negative']\n",
        "names = ['Actual Positive', 'Actual Negative']\n",
        "df = pd.DataFrame(cm0, index=names, columns=headings)\n",
        "display(df.style.highlight_max(color = 'lightblue', axis = 0))\n",
        "\n",
        "print(' ')\n",
        "print(' ')\n",
        "print(' ')\n",
        "print(' ')\n",
        "print('Confusion table for test:')\n",
        "headings = ['Predicted Positive', 'Predicted Negative']\n",
        "names = ['Actual Positive', 'Actual Negative']\n",
        "df = pd.DataFrame(cm, index=names, columns=headings)\n",
        "display(df.style.highlight_max(color = 'lightblue', axis = 0))\n",
        "\n",
        "print(' ')\n",
        "print(' ')\n",
        "print(' ')\n",
        "print(' ')\n",
        "print('Metrics for MLP classifier:')\n",
        "headings = ['Accuracy', 'Precision', 'Recall', 'F1', 'AUC']\n",
        "names = ['Train','Test']\n",
        "numpy_data=np.array([accuracy, precisions, recall, F1, AUC]).T\n",
        "df = pd.DataFrame(data=numpy_data, index=names, columns=headings)\n",
        "display(df.style.highlight_max(color = 'lightgreen', axis = 0))\n",
        "print(' ')\n",
        "print(' ')\n",
        "print(' ')\n",
        "print(' ')"
      ]
    },
    {
      "cell_type": "markdown",
      "source": [
        "#Random Forest Classifier"
      ],
      "metadata": {
        "id": "PjOj5Vg2mfFX"
      }
    },
    {
      "cell_type": "code",
      "execution_count": 13,
      "metadata": {
        "id": "5i_cSdron7Pd",
        "colab": {
          "base_uri": "https://localhost:8080/",
          "height": 1000
        },
        "outputId": "134b92cf-1026-4159-8585-3e779eede3e1"
      },
      "outputs": [
        {
          "output_type": "stream",
          "name": "stdout",
          "text": [
            "Best n_estimators: 200\n",
            "Best max_depth: 60\n",
            "Confusion Table for train:\n"
          ]
        },
        {
          "output_type": "display_data",
          "data": {
            "text/plain": [
              "<pandas.io.formats.style.Styler at 0x7f0124014550>"
            ],
            "text/html": [
              "<style type=\"text/css\">\n",
              "#T_15e45_row0_col0, #T_15e45_row1_col1 {\n",
              "  background-color: lightblue;\n",
              "}\n",
              "</style>\n",
              "<table id=\"T_15e45\" class=\"dataframe\">\n",
              "  <thead>\n",
              "    <tr>\n",
              "      <th class=\"blank level0\" >&nbsp;</th>\n",
              "      <th id=\"T_15e45_level0_col0\" class=\"col_heading level0 col0\" >Predicted Positive</th>\n",
              "      <th id=\"T_15e45_level0_col1\" class=\"col_heading level0 col1\" >Predicted Negative</th>\n",
              "    </tr>\n",
              "  </thead>\n",
              "  <tbody>\n",
              "    <tr>\n",
              "      <th id=\"T_15e45_level0_row0\" class=\"row_heading level0 row0\" >Actual Positive</th>\n",
              "      <td id=\"T_15e45_row0_col0\" class=\"data row0 col0\" >775</td>\n",
              "      <td id=\"T_15e45_row0_col1\" class=\"data row0 col1\" >0</td>\n",
              "    </tr>\n",
              "    <tr>\n",
              "      <th id=\"T_15e45_level0_row1\" class=\"row_heading level0 row1\" >Actual Negative</th>\n",
              "      <td id=\"T_15e45_row1_col0\" class=\"data row1 col0\" >6</td>\n",
              "      <td id=\"T_15e45_row1_col1\" class=\"data row1 col1\" >783</td>\n",
              "    </tr>\n",
              "  </tbody>\n",
              "</table>\n"
            ]
          },
          "metadata": {}
        },
        {
          "output_type": "stream",
          "name": "stdout",
          "text": [
            " \n",
            " \n",
            " \n",
            " \n",
            "Confusion table for test:\n"
          ]
        },
        {
          "output_type": "display_data",
          "data": {
            "text/plain": [
              "<pandas.io.formats.style.Styler at 0x7f02296b65d0>"
            ],
            "text/html": [
              "<style type=\"text/css\">\n",
              "#T_078bc_row0_col0, #T_078bc_row1_col1 {\n",
              "  background-color: lightblue;\n",
              "}\n",
              "</style>\n",
              "<table id=\"T_078bc\" class=\"dataframe\">\n",
              "  <thead>\n",
              "    <tr>\n",
              "      <th class=\"blank level0\" >&nbsp;</th>\n",
              "      <th id=\"T_078bc_level0_col0\" class=\"col_heading level0 col0\" >Predicted Positive</th>\n",
              "      <th id=\"T_078bc_level0_col1\" class=\"col_heading level0 col1\" >Predicted Negative</th>\n",
              "    </tr>\n",
              "  </thead>\n",
              "  <tbody>\n",
              "    <tr>\n",
              "      <th id=\"T_078bc_level0_row0\" class=\"row_heading level0 row0\" >Actual Positive</th>\n",
              "      <td id=\"T_078bc_row0_col0\" class=\"data row0 col0\" >175</td>\n",
              "      <td id=\"T_078bc_row0_col1\" class=\"data row0 col1\" >1</td>\n",
              "    </tr>\n",
              "    <tr>\n",
              "      <th id=\"T_078bc_level0_row1\" class=\"row_heading level0 row1\" >Actual Negative</th>\n",
              "      <td id=\"T_078bc_row1_col0\" class=\"data row1 col0\" >16</td>\n",
              "      <td id=\"T_078bc_row1_col1\" class=\"data row1 col1\" >200</td>\n",
              "    </tr>\n",
              "  </tbody>\n",
              "</table>\n"
            ]
          },
          "metadata": {}
        },
        {
          "output_type": "stream",
          "name": "stdout",
          "text": [
            " \n",
            " \n",
            " \n",
            " \n",
            "Metrics for MLP classifier:\n"
          ]
        },
        {
          "output_type": "display_data",
          "data": {
            "text/plain": [
              "<pandas.io.formats.style.Styler at 0x7f01297f9810>"
            ],
            "text/html": [
              "<style type=\"text/css\">\n",
              "#T_a43fe_row0_col0, #T_a43fe_row0_col1, #T_a43fe_row0_col2, #T_a43fe_row0_col3, #T_a43fe_row0_col4 {\n",
              "  background-color: lightgreen;\n",
              "}\n",
              "</style>\n",
              "<table id=\"T_a43fe\" class=\"dataframe\">\n",
              "  <thead>\n",
              "    <tr>\n",
              "      <th class=\"blank level0\" >&nbsp;</th>\n",
              "      <th id=\"T_a43fe_level0_col0\" class=\"col_heading level0 col0\" >Accuracy</th>\n",
              "      <th id=\"T_a43fe_level0_col1\" class=\"col_heading level0 col1\" >Precision</th>\n",
              "      <th id=\"T_a43fe_level0_col2\" class=\"col_heading level0 col2\" >Recall</th>\n",
              "      <th id=\"T_a43fe_level0_col3\" class=\"col_heading level0 col3\" >F1</th>\n",
              "      <th id=\"T_a43fe_level0_col4\" class=\"col_heading level0 col4\" >AUC</th>\n",
              "    </tr>\n",
              "  </thead>\n",
              "  <tbody>\n",
              "    <tr>\n",
              "      <th id=\"T_a43fe_level0_row0\" class=\"row_heading level0 row0\" >Train</th>\n",
              "      <td id=\"T_a43fe_row0_col0\" class=\"data row0 col0\" >0.996164</td>\n",
              "      <td id=\"T_a43fe_row0_col1\" class=\"data row0 col1\" >1.000000</td>\n",
              "      <td id=\"T_a43fe_row0_col2\" class=\"data row0 col2\" >0.992395</td>\n",
              "      <td id=\"T_a43fe_row0_col3\" class=\"data row0 col3\" >0.996183</td>\n",
              "      <td id=\"T_a43fe_row0_col4\" class=\"data row0 col4\" >0.996198</td>\n",
              "    </tr>\n",
              "    <tr>\n",
              "      <th id=\"T_a43fe_level0_row1\" class=\"row_heading level0 row1\" >Test</th>\n",
              "      <td id=\"T_a43fe_row1_col0\" class=\"data row1 col0\" >0.956633</td>\n",
              "      <td id=\"T_a43fe_row1_col1\" class=\"data row1 col1\" >0.995025</td>\n",
              "      <td id=\"T_a43fe_row1_col2\" class=\"data row1 col2\" >0.925926</td>\n",
              "      <td id=\"T_a43fe_row1_col3\" class=\"data row1 col3\" >0.959233</td>\n",
              "      <td id=\"T_a43fe_row1_col4\" class=\"data row1 col4\" >0.960122</td>\n",
              "    </tr>\n",
              "  </tbody>\n",
              "</table>\n"
            ]
          },
          "metadata": {}
        },
        {
          "output_type": "stream",
          "name": "stdout",
          "text": [
            " \n",
            " \n",
            " \n",
            " \n"
          ]
        },
        {
          "output_type": "display_data",
          "data": {
            "text/plain": [
              "<Figure size 640x480 with 1 Axes>"
            ],
            "image/png": "[encoded data removed]"
          },
          "metadata": {}
        },
        {
          "output_type": "stream",
          "name": "stdout",
          "text": [
            "time: 7min 58s (started: 2025-04-15 09:56:18 +00:00)\n"
          ]
        }
      ],
      "source": [
        "# Build Random Forest Classifier using params grid to find the best hyper parameters\n",
        "\n",
        "precisions = []\n",
        "F1 = []\n",
        "train_error = []\n",
        "recall = []\n",
        "AUC = []\n",
        "accuracy = []\n",
        "\n",
        "# Parameter grid for grid search\n",
        "param_grid = {\n",
        "    'n_estimators': [5, 10, 15, 20, 30, 50, 75, 100, 150, 175, 180, 190, 200, 300],\n",
        "    'max_depth': [None, 5, 10, 20, 30, 40, 50, 60]\n",
        "}\n",
        "\n",
        "random_forest = RandomForestClassifier()\n",
        "\n",
        "# Perform grid search to find the best hyperparameters\n",
        "grid_search = GridSearchCV(random_forest, param_grid, cv=5)\n",
        "grid_search.fit(v_train, y_train)\n",
        "\n",
        "\n",
        "best_n_estimators = grid_search.best_params_['n_estimators']\n",
        "best_max_depth = grid_search.best_params_['max_depth']\n",
        "\n",
        "print(\"Best n_estimators:\", best_n_estimators)\n",
        "print(\"Best max_depth:\", best_max_depth)\n",
        "\n",
        "# Build Random Forest Classifier with the best hyperparameters\n",
        "random_forest_best = RandomForestClassifier(n_estimators=best_n_estimators, max_depth=best_max_depth)\n",
        "\n",
        "random_forest_best.fit(v_train, y_train)\n",
        "\n",
        "y_train_pred = random_forest_best.predict(v_train)\n",
        "\n",
        "y_pred = random_forest_best.predict(v_test)\n",
        "\n",
        "# Confusion Matrix\n",
        "cm0 = confusion_matrix(y_train, y_train_pred)\n",
        "cm = confusion_matrix(y_test, y_pred)\n",
        "\n",
        "# Accuracy\n",
        "accuracy.append(accuracy_score(y_train, y_train_pred))\n",
        "accuracy.append(accuracy_score(y_test, y_pred))\n",
        "\n",
        "# Precision\n",
        "precisions.append(precision_score(y_train, y_train_pred))\n",
        "precisions.append(precision_score(y_test, y_pred))\n",
        "\n",
        "# Recall\n",
        "recall.append(recall_score(y_train, y_train_pred))\n",
        "recall.append(recall_score(y_test, y_pred))\n",
        "\n",
        "#F1 score\n",
        "F1.append(f1_score(y_train, y_train_pred))\n",
        "F1.append(f1_score(y_test, y_pred))\n",
        "\n",
        "# AUC\n",
        "AUC.append(roc_auc_score(y_train, y_train_pred))\n",
        "AUC.append(roc_auc_score(y_test, y_pred))\n",
        "\n",
        " # ROC\n",
        "fpr0, tpr0, thresholds0 = roc_curve(y_train, y_train_pred)\n",
        "fpr, tpr, thresholds = roc_curve(y_test, y_pred)\n",
        "plt.plot(fpr0, tpr0, '#2178b5', label='ROC for Training')\n",
        "plt.plot(fpr, tpr, '#ff8f2c', label='ROC for Test')\n",
        "plt.legend()\n",
        "\n",
        "plt.title('ROC curve')\n",
        "plt.xlabel('False Positive Rate')\n",
        "plt.ylabel('True Positive Rate')\n",
        "\n",
        "print('Confusion Table for train:')\n",
        "headings = ['Predicted Positive', 'Predicted Negative']\n",
        "names = ['Actual Positive', 'Actual Negative']\n",
        "df = pd.DataFrame(cm0, index=names, columns=headings)\n",
        "display(df.style.highlight_max(color = 'lightblue', axis = 0))\n",
        "\n",
        "print(' ')\n",
        "print(' ')\n",
        "print(' ')\n",
        "print(' ')\n",
        "print('Confusion table for test:')\n",
        "headings = ['Predicted Positive', 'Predicted Negative']\n",
        "names = ['Actual Positive', 'Actual Negative']\n",
        "df = pd.DataFrame(cm, index=names, columns=headings)\n",
        "display(df.style.highlight_max(color = 'lightblue', axis = 0))\n",
        "\n",
        "print(' ')\n",
        "print(' ')\n",
        "print(' ')\n",
        "print(' ')\n",
        "print('Metrics for MLP classifier:')\n",
        "headings = ['Accuracy', 'Precision', 'Recall', 'F1', 'AUC']\n",
        "names = ['Train','Test']\n",
        "numpy_data=np.array([accuracy, precisions, recall, F1, AUC]).T\n",
        "df = pd.DataFrame(data=numpy_data, index=names, columns=headings)\n",
        "display(df.style.highlight_max(color = 'lightgreen', axis = 0))\n",
        "print(' ')\n",
        "print(' ')\n",
        "print(' ')\n",
        "print(' ')"
      ]
    },
    {
      "cell_type": "markdown",
      "source": [
        "#Decision Tree Classifier"
      ],
      "metadata": {
        "id": "Crd9Qr3JoNf2"
      }
    },
    {
      "cell_type": "code",
      "execution_count": 14,
      "metadata": {
        "colab": {
          "base_uri": "https://localhost:8080/",
          "height": 1000
        },
        "id": "7PIK6yKEtz5L",
        "outputId": "3b875379-5ad3-4e09-cfea-c4d5ca0d1b21"
      },
      "outputs": [
        {
          "output_type": "stream",
          "name": "stdout",
          "text": [
            "Confusion Table for train:\n"
          ]
        },
        {
          "output_type": "display_data",
          "data": {
            "text/plain": [
              "<pandas.io.formats.style.Styler at 0x7f0123f47990>"
            ],
            "text/html": [
              "<style type=\"text/css\">\n",
              "#T_eeb05_row0_col0, #T_eeb05_row1_col1 {\n",
              "  background-color: lightblue;\n",
              "}\n",
              "</style>\n",
              "<table id=\"T_eeb05\" class=\"dataframe\">\n",
              "  <thead>\n",
              "    <tr>\n",
              "      <th class=\"blank level0\" >&nbsp;</th>\n",
              "      <th id=\"T_eeb05_level0_col0\" class=\"col_heading level0 col0\" >Predicted Positive</th>\n",
              "      <th id=\"T_eeb05_level0_col1\" class=\"col_heading level0 col1\" >Predicted Negative</th>\n",
              "    </tr>\n",
              "  </thead>\n",
              "  <tbody>\n",
              "    <tr>\n",
              "      <th id=\"T_eeb05_level0_row0\" class=\"row_heading level0 row0\" >Actual Positive</th>\n",
              "      <td id=\"T_eeb05_row0_col0\" class=\"data row0 col0\" >775</td>\n",
              "      <td id=\"T_eeb05_row0_col1\" class=\"data row0 col1\" >0</td>\n",
              "    </tr>\n",
              "    <tr>\n",
              "      <th id=\"T_eeb05_level0_row1\" class=\"row_heading level0 row1\" >Actual Negative</th>\n",
              "      <td id=\"T_eeb05_row1_col0\" class=\"data row1 col0\" >0</td>\n",
              "      <td id=\"T_eeb05_row1_col1\" class=\"data row1 col1\" >789</td>\n",
              "    </tr>\n",
              "  </tbody>\n",
              "</table>\n"
            ]
          },
          "metadata": {}
        },
        {
          "output_type": "stream",
          "name": "stdout",
          "text": [
            " \n",
            " \n",
            " \n",
            " \n",
            "Confusion table for test:\n"
          ]
        },
        {
          "output_type": "display_data",
          "data": {
            "text/plain": [
              "<pandas.io.formats.style.Styler at 0x7f0124040ed0>"
            ],
            "text/html": [
              "<style type=\"text/css\">\n",
              "#T_8b8c7_row0_col0, #T_8b8c7_row1_col1 {\n",
              "  background-color: lightblue;\n",
              "}\n",
              "</style>\n",
              "<table id=\"T_8b8c7\" class=\"dataframe\">\n",
              "  <thead>\n",
              "    <tr>\n",
              "      <th class=\"blank level0\" >&nbsp;</th>\n",
              "      <th id=\"T_8b8c7_level0_col0\" class=\"col_heading level0 col0\" >Predicted Positive</th>\n",
              "      <th id=\"T_8b8c7_level0_col1\" class=\"col_heading level0 col1\" >Predicted Negative</th>\n",
              "    </tr>\n",
              "  </thead>\n",
              "  <tbody>\n",
              "    <tr>\n",
              "      <th id=\"T_8b8c7_level0_row0\" class=\"row_heading level0 row0\" >Actual Positive</th>\n",
              "      <td id=\"T_8b8c7_row0_col0\" class=\"data row0 col0\" >164</td>\n",
              "      <td id=\"T_8b8c7_row0_col1\" class=\"data row0 col1\" >12</td>\n",
              "    </tr>\n",
              "    <tr>\n",
              "      <th id=\"T_8b8c7_level0_row1\" class=\"row_heading level0 row1\" >Actual Negative</th>\n",
              "      <td id=\"T_8b8c7_row1_col0\" class=\"data row1 col0\" >18</td>\n",
              "      <td id=\"T_8b8c7_row1_col1\" class=\"data row1 col1\" >198</td>\n",
              "    </tr>\n",
              "  </tbody>\n",
              "</table>\n"
            ]
          },
          "metadata": {}
        },
        {
          "output_type": "stream",
          "name": "stdout",
          "text": [
            " \n",
            " \n",
            " \n",
            " \n",
            "Metrics for MLP classifier:\n"
          ]
        },
        {
          "output_type": "display_data",
          "data": {
            "text/plain": [
              "<pandas.io.formats.style.Styler at 0x7f012964b010>"
            ],
            "text/html": [
              "<style type=\"text/css\">\n",
              "#T_97eb6_row0_col0, #T_97eb6_row0_col1, #T_97eb6_row0_col2, #T_97eb6_row0_col3, #T_97eb6_row0_col4 {\n",
              "  background-color: lightgreen;\n",
              "}\n",
              "</style>\n",
              "<table id=\"T_97eb6\" class=\"dataframe\">\n",
              "  <thead>\n",
              "    <tr>\n",
              "      <th class=\"blank level0\" >&nbsp;</th>\n",
              "      <th id=\"T_97eb6_level0_col0\" class=\"col_heading level0 col0\" >Accuracy</th>\n",
              "      <th id=\"T_97eb6_level0_col1\" class=\"col_heading level0 col1\" >Precision</th>\n",
              "      <th id=\"T_97eb6_level0_col2\" class=\"col_heading level0 col2\" >Recall</th>\n",
              "      <th id=\"T_97eb6_level0_col3\" class=\"col_heading level0 col3\" >F1</th>\n",
              "      <th id=\"T_97eb6_level0_col4\" class=\"col_heading level0 col4\" >AUC</th>\n",
              "    </tr>\n",
              "  </thead>\n",
              "  <tbody>\n",
              "    <tr>\n",
              "      <th id=\"T_97eb6_level0_row0\" class=\"row_heading level0 row0\" >Train</th>\n",
              "      <td id=\"T_97eb6_row0_col0\" class=\"data row0 col0\" >1.000000</td>\n",
              "      <td id=\"T_97eb6_row0_col1\" class=\"data row0 col1\" >1.000000</td>\n",
              "      <td id=\"T_97eb6_row0_col2\" class=\"data row0 col2\" >1.000000</td>\n",
              "      <td id=\"T_97eb6_row0_col3\" class=\"data row0 col3\" >1.000000</td>\n",
              "      <td id=\"T_97eb6_row0_col4\" class=\"data row0 col4\" >1.000000</td>\n",
              "    </tr>\n",
              "    <tr>\n",
              "      <th id=\"T_97eb6_level0_row1\" class=\"row_heading level0 row1\" >Test</th>\n",
              "      <td id=\"T_97eb6_row1_col0\" class=\"data row1 col0\" >0.923469</td>\n",
              "      <td id=\"T_97eb6_row1_col1\" class=\"data row1 col1\" >0.942857</td>\n",
              "      <td id=\"T_97eb6_row1_col2\" class=\"data row1 col2\" >0.916667</td>\n",
              "      <td id=\"T_97eb6_row1_col3\" class=\"data row1 col3\" >0.929577</td>\n",
              "      <td id=\"T_97eb6_row1_col4\" class=\"data row1 col4\" >0.924242</td>\n",
              "    </tr>\n",
              "  </tbody>\n",
              "</table>\n"
            ]
          },
          "metadata": {}
        },
        {
          "output_type": "stream",
          "name": "stdout",
          "text": [
            " \n",
            " \n",
            " \n",
            " \n"
          ]
        },
        {
          "output_type": "display_data",
          "data": {
            "text/plain": [
              "<Figure size 640x480 with 1 Axes>"
            ],
            "image/png": "[encoded data removed]"
          },
          "metadata": {}
        },
        {
          "output_type": "stream",
          "name": "stdout",
          "text": [
            "time: 365 ms (started: 2025-04-15 10:04:17 +00:00)\n"
          ]
        }
      ],
      "source": [
        "# Build Decision Tree Classifier model\n",
        "\n",
        "precisions = []\n",
        "F1 = []\n",
        "train_error = []\n",
        "recall = []\n",
        "AUC = []\n",
        "accuracy = []\n",
        "\n",
        "decision_tree = DecisionTreeClassifier()\n",
        "\n",
        "decision_tree.fit(v_train, y_train)\n",
        "\n",
        "y_train_pred = decision_tree.predict(v_train)\n",
        "\n",
        "y_pred = decision_tree.predict(v_test)\n",
        "\n",
        "# Confusion Matrix\n",
        "cm0 = confusion_matrix(y_train, y_train_pred)\n",
        "cm = confusion_matrix(y_test, y_pred)\n",
        "\n",
        "# Accuracy\n",
        "accuracy.append(accuracy_score(y_train, y_train_pred))\n",
        "accuracy.append(accuracy_score(y_test, y_pred))\n",
        "\n",
        "# Precision\n",
        "precisions.append(precision_score(y_train, y_train_pred))\n",
        "precisions.append(precision_score(y_test, y_pred))\n",
        "\n",
        "# Recall\n",
        "recall.append(recall_score(y_train, y_train_pred))\n",
        "recall.append(recall_score(y_test, y_pred))\n",
        "\n",
        "#F1 score\n",
        "F1.append(f1_score(y_train, y_train_pred))\n",
        "F1.append(f1_score(y_test, y_pred))\n",
        "\n",
        "# AUC\n",
        "AUC.append(roc_auc_score(y_train, y_train_pred))\n",
        "AUC.append(roc_auc_score(y_test, y_pred))\n",
        "\n",
        " # ROC\n",
        "fpr0, tpr0, thresholds0 = roc_curve(y_train, y_train_pred)\n",
        "fpr, tpr, thresholds = roc_curve(y_test, y_pred)\n",
        "plt.plot(fpr0, tpr0, '#2178b5', label='ROC for Training')\n",
        "plt.plot(fpr, tpr, '#ff8f2c', label='ROC for Test')\n",
        "plt.legend()\n",
        "\n",
        "plt.title('ROC curve')\n",
        "plt.xlabel('False Positive Rate')\n",
        "plt.ylabel('True Positive Rate')\n",
        "\n",
        "print('Confusion Table for train:')\n",
        "headings = ['Predicted Positive', 'Predicted Negative']\n",
        "names = ['Actual Positive', 'Actual Negative']\n",
        "df = pd.DataFrame(cm0, index=names, columns=headings)\n",
        "display(df.style.highlight_max(color = 'lightblue', axis = 0))\n",
        "\n",
        "print(' ')\n",
        "print(' ')\n",
        "print(' ')\n",
        "print(' ')\n",
        "print('Confusion table for test:')\n",
        "headings = ['Predicted Positive', 'Predicted Negative']\n",
        "names = ['Actual Positive', 'Actual Negative']\n",
        "df = pd.DataFrame(cm, index=names, columns=headings)\n",
        "display(df.style.highlight_max(color = 'lightblue', axis = 0))\n",
        "\n",
        "print(' ')\n",
        "print(' ')\n",
        "print(' ')\n",
        "print(' ')\n",
        "print('Metrics for MLP classifier:')\n",
        "headings = ['Accuracy', 'Precision', 'Recall', 'F1', 'AUC']\n",
        "names = ['Train','Test']\n",
        "numpy_data=np.array([accuracy, precisions, recall, F1, AUC]).T\n",
        "df = pd.DataFrame(data=numpy_data, index=names, columns=headings)\n",
        "display(df.style.highlight_max(color = 'lightgreen', axis = 0))\n",
        "print(' ')\n",
        "print(' ')\n",
        "print(' ')\n",
        "print(' ')\n"
      ]
    },
    {
      "cell_type": "markdown",
      "source": [
        "#Voting Classifier"
      ],
      "metadata": {
        "id": "aHKHdj83o_JY"
      }
    },
    {
      "cell_type": "code",
      "execution_count": 15,
      "metadata": {
        "id": "3uqRlXJKxgRL",
        "colab": {
          "base_uri": "https://localhost:8080/",
          "height": 1000
        },
        "outputId": "f60d816b-0546-40ea-b833-0b386658132f"
      },
      "outputs": [
        {
          "output_type": "stream",
          "name": "stdout",
          "text": [
            "Confusion Table for train:\n"
          ]
        },
        {
          "output_type": "display_data",
          "data": {
            "text/plain": [
              "<pandas.io.formats.style.Styler at 0x7f0123f9a090>"
            ],
            "text/html": [
              "<style type=\"text/css\">\n",
              "#T_02de4_row0_col0, #T_02de4_row1_col1 {\n",
              "  background-color: lightblue;\n",
              "}\n",
              "</style>\n",
              "<table id=\"T_02de4\" class=\"dataframe\">\n",
              "  <thead>\n",
              "    <tr>\n",
              "      <th class=\"blank level0\" >&nbsp;</th>\n",
              "      <th id=\"T_02de4_level0_col0\" class=\"col_heading level0 col0\" >Predicted Positive</th>\n",
              "      <th id=\"T_02de4_level0_col1\" class=\"col_heading level0 col1\" >Predicted Negative</th>\n",
              "    </tr>\n",
              "  </thead>\n",
              "  <tbody>\n",
              "    <tr>\n",
              "      <th id=\"T_02de4_level0_row0\" class=\"row_heading level0 row0\" >Actual Positive</th>\n",
              "      <td id=\"T_02de4_row0_col0\" class=\"data row0 col0\" >775</td>\n",
              "      <td id=\"T_02de4_row0_col1\" class=\"data row0 col1\" >0</td>\n",
              "    </tr>\n",
              "    <tr>\n",
              "      <th id=\"T_02de4_level0_row1\" class=\"row_heading level0 row1\" >Actual Negative</th>\n",
              "      <td id=\"T_02de4_row1_col0\" class=\"data row1 col0\" >0</td>\n",
              "      <td id=\"T_02de4_row1_col1\" class=\"data row1 col1\" >789</td>\n",
              "    </tr>\n",
              "  </tbody>\n",
              "</table>\n"
            ]
          },
          "metadata": {}
        },
        {
          "output_type": "stream",
          "name": "stdout",
          "text": [
            " \n",
            " \n",
            " \n",
            " \n",
            "Confusion table for test:\n"
          ]
        },
        {
          "output_type": "display_data",
          "data": {
            "text/plain": [
              "<pandas.io.formats.style.Styler at 0x7f0123f70890>"
            ],
            "text/html": [
              "<style type=\"text/css\">\n",
              "#T_8226d_row0_col0, #T_8226d_row1_col1 {\n",
              "  background-color: lightblue;\n",
              "}\n",
              "</style>\n",
              "<table id=\"T_8226d\" class=\"dataframe\">\n",
              "  <thead>\n",
              "    <tr>\n",
              "      <th class=\"blank level0\" >&nbsp;</th>\n",
              "      <th id=\"T_8226d_level0_col0\" class=\"col_heading level0 col0\" >Predicted Positive</th>\n",
              "      <th id=\"T_8226d_level0_col1\" class=\"col_heading level0 col1\" >Predicted Negative</th>\n",
              "    </tr>\n",
              "  </thead>\n",
              "  <tbody>\n",
              "    <tr>\n",
              "      <th id=\"T_8226d_level0_row0\" class=\"row_heading level0 row0\" >Actual Positive</th>\n",
              "      <td id=\"T_8226d_row0_col0\" class=\"data row0 col0\" >174</td>\n",
              "      <td id=\"T_8226d_row0_col1\" class=\"data row0 col1\" >2</td>\n",
              "    </tr>\n",
              "    <tr>\n",
              "      <th id=\"T_8226d_level0_row1\" class=\"row_heading level0 row1\" >Actual Negative</th>\n",
              "      <td id=\"T_8226d_row1_col0\" class=\"data row1 col0\" >21</td>\n",
              "      <td id=\"T_8226d_row1_col1\" class=\"data row1 col1\" >195</td>\n",
              "    </tr>\n",
              "  </tbody>\n",
              "</table>\n"
            ]
          },
          "metadata": {}
        },
        {
          "output_type": "stream",
          "name": "stdout",
          "text": [
            " \n",
            " \n",
            " \n",
            " \n",
            "Metrics for MLP classifier:\n"
          ]
        },
        {
          "output_type": "display_data",
          "data": {
            "text/plain": [
              "<pandas.io.formats.style.Styler at 0x7f0123f83590>"
            ],
            "text/html": [
              "<style type=\"text/css\">\n",
              "#T_18a9a_row0_col0, #T_18a9a_row0_col1, #T_18a9a_row0_col2, #T_18a9a_row0_col3, #T_18a9a_row0_col4 {\n",
              "  background-color: lightgreen;\n",
              "}\n",
              "</style>\n",
              "<table id=\"T_18a9a\" class=\"dataframe\">\n",
              "  <thead>\n",
              "    <tr>\n",
              "      <th class=\"blank level0\" >&nbsp;</th>\n",
              "      <th id=\"T_18a9a_level0_col0\" class=\"col_heading level0 col0\" >Accuracy</th>\n",
              "      <th id=\"T_18a9a_level0_col1\" class=\"col_heading level0 col1\" >Precision</th>\n",
              "      <th id=\"T_18a9a_level0_col2\" class=\"col_heading level0 col2\" >Recall</th>\n",
              "      <th id=\"T_18a9a_level0_col3\" class=\"col_heading level0 col3\" >F1</th>\n",
              "      <th id=\"T_18a9a_level0_col4\" class=\"col_heading level0 col4\" >AUC</th>\n",
              "    </tr>\n",
              "  </thead>\n",
              "  <tbody>\n",
              "    <tr>\n",
              "      <th id=\"T_18a9a_level0_row0\" class=\"row_heading level0 row0\" >Train</th>\n",
              "      <td id=\"T_18a9a_row0_col0\" class=\"data row0 col0\" >1.000000</td>\n",
              "      <td id=\"T_18a9a_row0_col1\" class=\"data row0 col1\" >1.000000</td>\n",
              "      <td id=\"T_18a9a_row0_col2\" class=\"data row0 col2\" >1.000000</td>\n",
              "      <td id=\"T_18a9a_row0_col3\" class=\"data row0 col3\" >1.000000</td>\n",
              "      <td id=\"T_18a9a_row0_col4\" class=\"data row0 col4\" >1.000000</td>\n",
              "    </tr>\n",
              "    <tr>\n",
              "      <th id=\"T_18a9a_level0_row1\" class=\"row_heading level0 row1\" >Test</th>\n",
              "      <td id=\"T_18a9a_row1_col0\" class=\"data row1 col0\" >0.941327</td>\n",
              "      <td id=\"T_18a9a_row1_col1\" class=\"data row1 col1\" >0.989848</td>\n",
              "      <td id=\"T_18a9a_row1_col2\" class=\"data row1 col2\" >0.902778</td>\n",
              "      <td id=\"T_18a9a_row1_col3\" class=\"data row1 col3\" >0.944310</td>\n",
              "      <td id=\"T_18a9a_row1_col4\" class=\"data row1 col4\" >0.945707</td>\n",
              "    </tr>\n",
              "  </tbody>\n",
              "</table>\n"
            ]
          },
          "metadata": {}
        },
        {
          "output_type": "stream",
          "name": "stdout",
          "text": [
            " \n",
            " \n",
            " \n",
            " \n"
          ]
        },
        {
          "output_type": "display_data",
          "data": {
            "text/plain": [
              "<Figure size 640x480 with 1 Axes>"
            ],
            "image/png": "[encoded data removed]"
          },
          "metadata": {}
        },
        {
          "output_type": "stream",
          "name": "stdout",
          "text": [
            "time: 17.6 s (started: 2025-04-15 10:04:17 +00:00)\n"
          ]
        }
      ],
      "source": [
        "# Build Voting Classifier of all previous classifier models\n",
        "\n",
        "precisions = []\n",
        "F1 = []\n",
        "train_error = []\n",
        "recall = []\n",
        "AUC = []\n",
        "accuracy = []\n",
        "\n",
        "# Define individual classifiers\n",
        "knn_classifier = KNeighborsClassifier()\n",
        "mlp_classifier = MLPClassifier()\n",
        "svc_classifier = SVC(probability=True)\n",
        "decision_tree = DecisionTreeClassifier()\n",
        "random_forest = RandomForestClassifier()\n",
        "\n",
        "# Create a Voting Classifier\n",
        "voting_classifier = VotingClassifier(\n",
        "    estimators=[\n",
        "        ('knn', knn_classifier),\n",
        "        ('mlp', mlp_classifier),\n",
        "        ('svc', svc_classifier),\n",
        "        ('decision_tree', decision_tree),\n",
        "        ('random_forest', random_forest)\n",
        "    ],\n",
        "    voting='hard'\n",
        ")\n",
        "\n",
        "voting_classifier.fit(v_train, y_train)\n",
        "\n",
        "y_train_pred = voting_classifier.predict(v_train)\n",
        "\n",
        "y_pred = voting_classifier.predict(v_test)\n",
        "\n",
        "# Confusion Matrix\n",
        "cm0 = confusion_matrix(y_train, y_train_pred)\n",
        "cm = confusion_matrix(y_test, y_pred)\n",
        "\n",
        "# Accuracy\n",
        "accuracy.append(accuracy_score(y_train, y_train_pred))\n",
        "accuracy.append(accuracy_score(y_test, y_pred))\n",
        "\n",
        "# Precision\n",
        "precisions.append(precision_score(y_train, y_train_pred))\n",
        "precisions.append(precision_score(y_test, y_pred))\n",
        "\n",
        "# Recall\n",
        "recall.append(recall_score(y_train, y_train_pred))\n",
        "recall.append(recall_score(y_test, y_pred))\n",
        "\n",
        "#F1 score\n",
        "F1.append(f1_score(y_train, y_train_pred))\n",
        "F1.append(f1_score(y_test, y_pred))\n",
        "\n",
        "# AUC\n",
        "AUC.append(roc_auc_score(y_train, y_train_pred))\n",
        "AUC.append(roc_auc_score(y_test, y_pred))\n",
        "\n",
        " # ROC\n",
        "fpr0, tpr0, thresholds0 = roc_curve(y_train, y_train_pred)\n",
        "fpr, tpr, thresholds = roc_curve(y_test, y_pred)\n",
        "plt.plot(fpr0, tpr0, '#2178b5', label='ROC for Training')\n",
        "plt.plot(fpr, tpr, '#ff8f2c', label='ROC for Test')\n",
        "plt.legend()\n",
        "\n",
        "plt.title('ROC curve')\n",
        "plt.xlabel('False Positive Rate')\n",
        "plt.ylabel('True Positive Rate')\n",
        "\n",
        "print('Confusion Table for train:')\n",
        "headings = ['Predicted Positive', 'Predicted Negative']\n",
        "names = ['Actual Positive', 'Actual Negative']\n",
        "df = pd.DataFrame(cm0, index=names, columns=headings)\n",
        "display(df.style.highlight_max(color = 'lightblue', axis = 0))\n",
        "\n",
        "print(' ')\n",
        "print(' ')\n",
        "print(' ')\n",
        "print(' ')\n",
        "print('Confusion table for test:')\n",
        "headings = ['Predicted Positive', 'Predicted Negative']\n",
        "names = ['Actual Positive', 'Actual Negative']\n",
        "df = pd.DataFrame(cm, index=names, columns=headings)\n",
        "display(df.style.highlight_max(color = 'lightblue', axis = 0))\n",
        "\n",
        "print(' ')\n",
        "print(' ')\n",
        "print(' ')\n",
        "print(' ')\n",
        "print('Metrics for MLP classifier:')\n",
        "headings = ['Accuracy', 'Precision', 'Recall', 'F1', 'AUC']\n",
        "names = ['Train','Test']\n",
        "numpy_data=np.array([accuracy, precisions, recall, F1, AUC]).T\n",
        "df = pd.DataFrame(data=numpy_data, index=names, columns=headings)\n",
        "display(df.style.highlight_max(color = 'lightgreen', axis = 0))\n",
        "print(' ')\n",
        "print(' ')\n",
        "print(' ')\n",
        "print(' ')\n"
      ]
    },
    {
      "cell_type": "markdown",
      "source": [
        "#Neural Network"
      ],
      "metadata": {
        "id": "VfyJV3wNhv0V"
      }
    },
    {
      "cell_type": "code",
      "source": [
        "class MyNetwork(nn.Module):\n",
        "    def __init__(self):\n",
        "        super(MyNetwork, self).__init__()\n",
        "        self.linear1 = nn.Linear(4454, 3000)\n",
        "        self.linear2 = nn.LazyLinear(1000)\n",
        "        self.linear3 = nn.LazyLinear(100)\n",
        "        self.linear4 = nn.LazyLinear(2)\n",
        "\n",
        "    def forward(self, x):\n",
        "        x = F.relu(self.linear1(x))\n",
        "        x = F.relu(self.linear2(x))\n",
        "        x = F.relu(self.linear3(x))\n",
        "        x = self.linear4(x)\n",
        "        return x"
      ],
      "metadata": {
        "colab": {
          "base_uri": "https://localhost:8080/"
        },
        "id": "XUShMpkGpYEM",
        "outputId": "1418ee05-a99e-44db-852e-efb380d8eb97"
      },
      "execution_count": 16,
      "outputs": [
        {
          "output_type": "stream",
          "name": "stdout",
          "text": [
            "time: 2.56 ms (started: 2025-04-15 10:04:35 +00:00)\n"
          ]
        }
      ]
    },
    {
      "cell_type": "code",
      "source": [
        "model = MyNetwork()"
      ],
      "metadata": {
        "colab": {
          "base_uri": "https://localhost:8080/"
        },
        "id": "BZhub56gpYGb",
        "outputId": "1267409f-ea98-41f4-a10e-0a66bf6a8d96"
      },
      "execution_count": 17,
      "outputs": [
        {
          "output_type": "stream",
          "name": "stdout",
          "text": [
            "time: 437 ms (started: 2025-04-15 10:04:35 +00:00)\n"
          ]
        }
      ]
    },
    {
      "cell_type": "code",
      "source": [
        "criterion = nn.CrossEntropyLoss()\n",
        "optimizer = torch.optim.Adam(params=model.parameters() , lr=0.01)"
      ],
      "metadata": {
        "colab": {
          "base_uri": "https://localhost:8080/"
        },
        "id": "kiD9r0HKvTJx",
        "outputId": "3f765ce2-f861-42ad-dffb-332640e07fde"
      },
      "execution_count": 18,
      "outputs": [
        {
          "output_type": "stream",
          "name": "stdout",
          "text": [
            "time: 8.82 s (started: 2025-04-15 10:04:35 +00:00)\n"
          ]
        }
      ]
    },
    {
      "cell_type": "code",
      "source": [
        "x_train = Variable(torch.from_numpy(v_train.toarray())).float()\n",
        "y_train = Variable(torch.from_numpy(np.array(y_train))).long()"
      ],
      "metadata": {
        "colab": {
          "base_uri": "https://localhost:8080/"
        },
        "id": "va5PXCorvTMS",
        "outputId": "13c6bdbc-7eca-40fc-f48b-b15fba0870fc"
      },
      "execution_count": 19,
      "outputs": [
        {
          "output_type": "stream",
          "name": "stdout",
          "text": [
            "time: 133 ms (started: 2025-04-15 10:04:44 +00:00)\n"
          ]
        }
      ]
    },
    {
      "cell_type": "code",
      "source": [
        "epochs = 10\n",
        "model.train()\n",
        "loss_values = []\n",
        "res_values = []\n",
        "for epoch in range(epochs):\n",
        "    optimizer.zero_grad()\n",
        "    y_pred = model(x_train)\n",
        "    res_values.append(y_pred)\n",
        "    loss = criterion(y_pred, y_train)\n",
        "    loss_values.append(loss.item())\n",
        "    pred = torch.max(y_pred, 1)[1].eq(y_train).sum()\n",
        "    acc = pred * 100.0 / len(x_train)\n",
        "    print('Epoch: {}, Loss: {}, Accuracy: {}%'.format(epoch+1, loss.item(), acc.numpy()))\n",
        "    loss.backward()\n",
        "    optimizer.step()"
      ],
      "metadata": {
        "colab": {
          "base_uri": "https://localhost:8080/"
        },
        "id": "P1Norb_MvTRS",
        "outputId": "c51487a0-43ce-4aae-aa12-6e08bf4e936d"
      },
      "execution_count": 20,
      "outputs": [
        {
          "output_type": "stream",
          "name": "stdout",
          "text": [
            "Epoch: 1, Loss: 0.6985412836074829, Accuracy: 49.55242919921875%\n",
            "Epoch: 2, Loss: 0.6010127067565918, Accuracy: 50.44757080078125%\n",
            "Epoch: 3, Loss: 0.6946309804916382, Accuracy: 47.05882263183594%\n",
            "Epoch: 4, Loss: 0.1749958097934723, Accuracy: 98.91304016113281%\n",
            "Epoch: 5, Loss: 0.03979656472802162, Accuracy: 99.42455291748047%\n",
            "Epoch: 6, Loss: 0.01356260385364294, Accuracy: 99.55242919921875%\n",
            "Epoch: 7, Loss: 0.01018961239606142, Accuracy: 99.68030548095703%\n",
            "Epoch: 8, Loss: 0.002246930031105876, Accuracy: 99.9360580444336%\n",
            "Epoch: 9, Loss: 3.8139803564263275e-06, Accuracy: 100.0%\n",
            "Epoch: 10, Loss: 1.5471985648218833e-07, Accuracy: 100.0%\n",
            "time: 35.1 s (started: 2025-04-15 10:04:44 +00:00)\n"
          ]
        }
      ]
    },
    {
      "cell_type": "code",
      "source": [
        "plt.plot(loss_values)\n",
        "plt.title('Loss Value vs Epochs')\n",
        "plt.xlabel('Epochs')\n",
        "plt.ylabel('Loss')\n",
        "plt.legend(['Loss'])\n",
        "plt.show()"
      ],
      "metadata": {
        "colab": {
          "base_uri": "https://localhost:8080/",
          "height": 489
        },
        "id": "zeB_jsb_vTTz",
        "outputId": "2d492f39-eeb8-43d4-d133-6b65c076205d"
      },
      "execution_count": 21,
      "outputs": [
        {
          "output_type": "display_data",
          "data": {
            "text/plain": [
              "<Figure size 640x480 with 1 Axes>"
            ],
            "image/png": "[encoded data removed]"
          },
          "metadata": {}
        },
        {
          "output_type": "stream",
          "name": "stdout",
          "text": [
            "time: 168 ms (started: 2025-04-15 10:05:19 +00:00)\n"
          ]
        }
      ]
    },
    {
      "cell_type": "code",
      "source": [
        "x_test = Variable(torch.from_numpy(v_test.toarray())).float()\n",
        "y_test = Variable(torch.from_numpy(np.array(y_test))).long()"
      ],
      "metadata": {
        "colab": {
          "base_uri": "https://localhost:8080/"
        },
        "id": "sgsVX7HqvbFk",
        "outputId": "b107fce0-101e-4c66-af76-65217bcce06d"
      },
      "execution_count": 22,
      "outputs": [
        {
          "output_type": "stream",
          "name": "stdout",
          "text": [
            "time: 6.49 ms (started: 2025-04-15 10:05:19 +00:00)\n"
          ]
        }
      ]
    },
    {
      "cell_type": "code",
      "source": [
        "model.eval()\n",
        "y_pred_test = []\n",
        "with torch.no_grad():\n",
        "    y_pred = model(x_test)\n",
        "    y_pred_test.append(y_pred)\n",
        "    loss = criterion(y_pred, y_test)\n",
        "    pred = torch.max(y_pred, 1)[1].eq(y_test).sum()\n",
        "    print (\"Accuracy : {}%\".format(100*pred/len(x_test)))"
      ],
      "metadata": {
        "colab": {
          "base_uri": "https://localhost:8080/"
        },
        "id": "KDpSu_64vbKW",
        "outputId": "e67ad1bf-318b-45fa-d027-8303a5bc76d2"
      },
      "execution_count": 23,
      "outputs": [
        {
          "output_type": "stream",
          "name": "stdout",
          "text": [
            "Accuracy : 91.83673095703125%\n",
            "time: 260 ms (started: 2025-04-15 10:05:19 +00:00)\n"
          ]
        }
      ]
    },
    {
      "cell_type": "markdown",
      "source": [
        "#Testing Voting Classifier on new parsed data"
      ],
      "metadata": {
        "id": "ytVlBXOtpOcd"
      }
    },
    {
      "cell_type": "code",
      "source": [
        "# Upload new data parsed from YouTube\n",
        "real_data = pd.read_excel('data.xlsx')"
      ],
      "metadata": {
        "colab": {
          "base_uri": "https://localhost:8080/"
        },
        "id": "tWizQ0GmpVTV",
        "outputId": "ba747008-1cfe-41ab-e576-1fe511fd4e1d"
      },
      "execution_count": 24,
      "outputs": [
        {
          "output_type": "stream",
          "name": "stdout",
          "text": [
            "time: 776 ms (started: 2025-04-15 10:05:20 +00:00)\n"
          ]
        }
      ]
    },
    {
      "cell_type": "code",
      "source": [
        "real_data"
      ],
      "metadata": {
        "colab": {
          "base_uri": "https://localhost:8080/",
          "height": 441
        },
        "id": "TpCHRX11pVXn",
        "outputId": "42093d6e-4469-432d-a9b4-d4becefad27b"
      },
      "execution_count": 25,
      "outputs": [
        {
          "output_type": "execute_result",
          "data": {
            "text/plain": [
              "                                               comment  label\n",
              "0            This song definitely deserved a Grammy…;0      0\n",
              "1                    She won grammys in our heart !:);      0\n",
              "2          In my head and heart she's the true winner;      0\n",
              "3    Grammys don’t deserve you but you’re the true ...      0\n",
              "4    they put sm effort into not only this performance      0\n",
              "..                                                 ...    ...\n",
              "445    guys please susbribe for my blog at twitter.com      1\n",
              "446   I just bought cheap tickets here at this website      1\n",
              "447            buy new iphone for free at www.free.com      1\n",
              "448                 news on the world at www.world.com      1\n",
              "449            drop it all and click this link dfr.com      1\n",
              "\n",
              "[450 rows x 2 columns]"
            ],
            "text/html": [
              "\n",
              "  <div id=\"df-61643f62-3baa-4f93-b934-ef749e28df68\" class=\"colab-df-container\">\n",
              "    <div>\n",
              "<style scoped>\n",
              "    .dataframe tbody tr th:only-of-type {\n",
              "        vertical-align: middle;\n",
              "    }\n",
              "\n",
              "    .dataframe tbody tr th {\n",
              "        vertical-align: top;\n",
              "    }\n",
              "\n",
              "    .dataframe thead th {\n",
              "        text-align: right;\n",
              "    }\n",
              "</style>\n",
              "<table border=\"1\" class=\"dataframe\">\n",
              "  <thead>\n",
              "    <tr style=\"text-align: right;\">\n",
              "      <th></th>\n",
              "      <th>comment</th>\n",
              "      <th>label</th>\n",
              "    </tr>\n",
              "  </thead>\n",
              "  <tbody>\n",
              "    <tr>\n",
              "      <th>0</th>\n",
              "      <td>This song definitely deserved a Grammy…;0</td>\n",
              "      <td>0</td>\n",
              "    </tr>\n",
              "    <tr>\n",
              "      <th>1</th>\n",
              "      <td>She won grammys in our heart !:);</td>\n",
              "      <td>0</td>\n",
              "    </tr>\n",
              "    <tr>\n",
              "      <th>2</th>\n",
              "      <td>In my head and heart she's the true winner;</td>\n",
              "      <td>0</td>\n",
              "    </tr>\n",
              "    <tr>\n",
              "      <th>3</th>\n",
              "      <td>Grammys don’t deserve you but you’re the true ...</td>\n",
              "      <td>0</td>\n",
              "    </tr>\n",
              "    <tr>\n",
              "      <th>4</th>\n",
              "      <td>they put sm effort into not only this performance</td>\n",
              "      <td>0</td>\n",
              "    </tr>\n",
              "    <tr>\n",
              "      <th>...</th>\n",
              "      <td>...</td>\n",
              "      <td>...</td>\n",
              "    </tr>\n",
              "    <tr>\n",
              "      <th>445</th>\n",
              "      <td>guys please susbribe for my blog at twitter.com</td>\n",
              "      <td>1</td>\n",
              "    </tr>\n",
              "    <tr>\n",
              "      <th>446</th>\n",
              "      <td>I just bought cheap tickets here at this website</td>\n",
              "      <td>1</td>\n",
              "    </tr>\n",
              "    <tr>\n",
              "      <th>447</th>\n",
              "      <td>buy new iphone for free at www.free.com</td>\n",
              "      <td>1</td>\n",
              "    </tr>\n",
              "    <tr>\n",
              "      <th>448</th>\n",
              "      <td>news on the world at www.world.com</td>\n",
              "      <td>1</td>\n",
              "    </tr>\n",
              "    <tr>\n",
              "      <th>449</th>\n",
              "      <td>drop it all and click this link dfr.com</td>\n",
              "      <td>1</td>\n",
              "    </tr>\n",
              "  </tbody>\n",
              "</table>\n",
              "<p>450 rows × 2 columns</p>\n",
              "</div>\n",
              "    <div class=\"colab-df-buttons\">\n",
              "\n",
              "  <div class=\"colab-df-container\">\n",
              "    <button class=\"colab-df-convert\" onclick=\"convertToInteractive('df-61643f62-3baa-4f93-b934-ef749e28df68')\"\n",
              "            title=\"Convert this dataframe to an interactive table.\"\n",
              "            style=\"display:none;\">\n",
              "\n",
              "  <svg xmlns=\"http://www.w3.org/2000/svg\" height=\"24px\" viewBox=\"0 -960 960 960\">\n",
              "    <path d=\"M120-120v-720h720v720H120Zm60-500h600v-160H180v160Zm220 220h160v-160H400v160Zm0 220h160v-160H400v160ZM180-400h160v-160H180v160Zm440 0h160v-160H620v160ZM180-180h160v-160H180v160Zm440 0h160v-160H620v160Z\"/>\n",
              "  </svg>\n",
              "    </button>\n",
              "\n",
              "  <style>\n",
              "    .colab-df-container {\n",
              "      display:flex;\n",
              "      gap: 12px;\n",
              "    }\n",
              "\n",
              "    .colab-df-convert {\n",
              "      background-color: #E8F0FE;\n",
              "      border: none;\n",
              "      border-radius: 50%;\n",
              "      cursor: pointer;\n",
              "      display: none;\n",
              "      fill: #1967D2;\n",
              "      height: 32px;\n",
              "      padding: 0 0 0 0;\n",
              "      width: 32px;\n",
              "    }\n",
              "\n",
              "    .colab-df-convert:hover {\n",
              "      background-color: #E2EBFA;\n",
              "      box-shadow: 0px 1px 2px rgba(60, 64, 67, 0.3), 0px 1px 3px 1px rgba(60, 64, 67, 0.15);\n",
              "      fill: #174EA6;\n",
              "    }\n",
              "\n",
              "    .colab-df-buttons div {\n",
              "      margin-bottom: 4px;\n",
              "    }\n",
              "\n",
              "    [theme=dark] .colab-df-convert {\n",
              "      background-color: #3B4455;\n",
              "      fill: #D2E3FC;\n",
              "    }\n",
              "\n",
              "    [theme=dark] .colab-df-convert:hover {\n",
              "      background-color: #434B5C;\n",
              "      box-shadow: 0px 1px 3px 1px rgba(0, 0, 0, 0.15);\n",
              "      filter: drop-shadow(0px 1px 2px rgba(0, 0, 0, 0.3));\n",
              "      fill: #FFFFFF;\n",
              "    }\n",
              "  </style>\n",
              "\n",
              "    <script>\n",
              "      const buttonEl =\n",
              "        document.querySelector('#df-61643f62-3baa-4f93-b934-ef749e28df68 button.colab-df-convert');\n",
              "      buttonEl.style.display =\n",
              "        google.colab.kernel.accessAllowed ? 'block' : 'none';\n",
              "\n",
              "      async function convertToInteractive(key) {\n",
              "        const element = document.querySelector('#df-61643f62-3baa-4f93-b934-ef749e28df68');\n",
              "        const dataTable =\n",
              "          await google.colab.kernel.invokeFunction('convertToInteractive',\n",
              "                                                    [key], {});\n",
              "        if (!dataTable) return;\n",
              "\n",
              "        const docLinkHtml = 'Like what you see? Visit the ' +\n",
              "          '<a target=\"_blank\" href=https://colab.research.google.com/notebooks/data_table.ipynb>data table notebook</a>'\n",
              "          + ' to learn more about interactive tables.';\n",
              "        element.innerHTML = '';\n",
              "        dataTable['output_type'] = 'display_data';\n",
              "        await google.colab.output.renderOutput(dataTable, element);\n",
              "        const docLink = document.createElement('div');\n",
              "        docLink.innerHTML = docLinkHtml;\n",
              "        element.appendChild(docLink);\n",
              "      }\n",
              "    </script>\n",
              "  </div>\n",
              "\n",
              "\n",
              "<div id=\"df-cf21b6d2-1d08-4f06-b002-6b1a53149e68\">\n",
              "  <button class=\"colab-df-quickchart\" onclick=\"quickchart('df-cf21b6d2-1d08-4f06-b002-6b1a53149e68')\"\n",
              "            title=\"Suggest charts\"\n",
              "            style=\"display:none;\">\n",
              "\n",
              "<svg xmlns=\"http://www.w3.org/2000/svg\" height=\"24px\"viewBox=\"0 0 24 24\"\n",
              "     width=\"24px\">\n",
              "    <g>\n",
              "        <path d=\"M19 3H5c-1.1 0-2 .9-2 2v14c0 1.1.9 2 2 2h14c1.1 0 2-.9 2-2V5c0-1.1-.9-2-2-2zM9 17H7v-7h2v7zm4 0h-2V7h2v10zm4 0h-2v-4h2v4z\"/>\n",
              "    </g>\n",
              "</svg>\n",
              "  </button>\n",
              "\n",
              "<style>\n",
              "  .colab-df-quickchart {\n",
              "      --bg-color: #E8F0FE;\n",
              "      --fill-color: #1967D2;\n",
              "      --hover-bg-color: #E2EBFA;\n",
              "      --hover-fill-color: #174EA6;\n",
              "      --disabled-fill-color: #AAA;\n",
              "      --disabled-bg-color: #DDD;\n",
              "  }\n",
              "\n",
              "  [theme=dark] .colab-df-quickchart {\n",
              "      --bg-color: #3B4455;\n",
              "      --fill-color: #D2E3FC;\n",
              "      --hover-bg-color: #434B5C;\n",
              "      --hover-fill-color: #FFFFFF;\n",
              "      --disabled-bg-color: #3B4455;\n",
              "      --disabled-fill-color: #666;\n",
              "  }\n",
              "\n",
              "  .colab-df-quickchart {\n",
              "    background-color: var(--bg-color);\n",
              "    border: none;\n",
              "    border-radius: 50%;\n",
              "    cursor: pointer;\n",
              "    display: none;\n",
              "    fill: var(--fill-color);\n",
              "    height: 32px;\n",
              "    padding: 0;\n",
              "    width: 32px;\n",
              "  }\n",
              "\n",
              "  .colab-df-quickchart:hover {\n",
              "    background-color: var(--hover-bg-color);\n",
              "    box-shadow: 0 1px 2px rgba(60, 64, 67, 0.3), 0 1px 3px 1px rgba(60, 64, 67, 0.15);\n",
              "    fill: var(--button-hover-fill-color);\n",
              "  }\n",
              "\n",
              "  .colab-df-quickchart-complete:disabled,\n",
              "  .colab-df-quickchart-complete:disabled:hover {\n",
              "    background-color: var(--disabled-bg-color);\n",
              "    fill: var(--disabled-fill-color);\n",
              "    box-shadow: none;\n",
              "  }\n",
              "\n",
              "  .colab-df-spinner {\n",
              "    border: 2px solid var(--fill-color);\n",
              "    border-color: transparent;\n",
              "    border-bottom-color: var(--fill-color);\n",
              "    animation:\n",
              "      spin 1s steps(1) infinite;\n",
              "  }\n",
              "\n",
              "  @keyframes spin {\n",
              "    0% {\n",
              "      border-color: transparent;\n",
              "      border-bottom-color: var(--fill-color);\n",
              "      border-left-color: var(--fill-color);\n",
              "    }\n",
              "    20% {\n",
              "      border-color: transparent;\n",
              "      border-left-color: var(--fill-color);\n",
              "      border-top-color: var(--fill-color);\n",
              "    }\n",
              "    30% {\n",
              "      border-color: transparent;\n",
              "      border-left-color: var(--fill-color);\n",
              "      border-top-color: var(--fill-color);\n",
              "      border-right-color: var(--fill-color);\n",
              "    }\n",
              "    40% {\n",
              "      border-color: transparent;\n",
              "      border-right-color: var(--fill-color);\n",
              "      border-top-color: var(--fill-color);\n",
              "    }\n",
              "    60% {\n",
              "      border-color: transparent;\n",
              "      border-right-color: var(--fill-color);\n",
              "    }\n",
              "    80% {\n",
              "      border-color: transparent;\n",
              "      border-right-color: var(--fill-color);\n",
              "      border-bottom-color: var(--fill-color);\n",
              "    }\n",
              "    90% {\n",
              "      border-color: transparent;\n",
              "      border-bottom-color: var(--fill-color);\n",
              "    }\n",
              "  }\n",
              "</style>\n",
              "\n",
              "  <script>\n",
              "    async function quickchart(key) {\n",
              "      const quickchartButtonEl =\n",
              "        document.querySelector('#' + key + ' button');\n",
              "      quickchartButtonEl.disabled = true;  // To prevent multiple clicks.\n",
              "      quickchartButtonEl.classList.add('colab-df-spinner');\n",
              "      try {\n",
              "        const charts = await google.colab.kernel.invokeFunction(\n",
              "            'suggestCharts', [key], {});\n",
              "      } catch (error) {\n",
              "        console.error('Error during call to suggestCharts:', error);\n",
              "      }\n",
              "      quickchartButtonEl.classList.remove('colab-df-spinner');\n",
              "      quickchartButtonEl.classList.add('colab-df-quickchart-complete');\n",
              "    }\n",
              "    (() => {\n",
              "      let quickchartButtonEl =\n",
              "        document.querySelector('#df-cf21b6d2-1d08-4f06-b002-6b1a53149e68 button');\n",
              "      quickchartButtonEl.style.display =\n",
              "        google.colab.kernel.accessAllowed ? 'block' : 'none';\n",
              "    })();\n",
              "  </script>\n",
              "</div>\n",
              "    </div>\n",
              "  </div>\n"
            ],
            "application/vnd.google.colaboratory.intrinsic+json": {
              "type": "dataframe",
              "variable_name": "real_data",
              "summary": "{\n  \"name\": \"real_data\",\n  \"rows\": 450,\n  \"fields\": [\n    {\n      \"column\": \"comment\",\n      \"properties\": {\n        \"dtype\": \"string\",\n        \"num_unique_values\": 447,\n        \"samples\": [\n          \"I should\\u2019ve been the chair omfg ???;\",\n          \"I love your songs so much billlie im a 15 yearold girl a teenager and these songs heal me my emotion and i see that all (most ) of your song have meaning to it i love them and i loveeeeeeeeeee you(you deserve all the award and prizes) a trophy doesnt define it we listener  believe u are the winner of all our heart;\",\n          \"Billie! this music touched my heart\\u2026;\"\n        ],\n        \"semantic_type\": \"\",\n        \"description\": \"\"\n      }\n    },\n    {\n      \"column\": \"label\",\n      \"properties\": {\n        \"dtype\": \"number\",\n        \"std\": 0,\n        \"min\": 0,\n        \"max\": 1,\n        \"num_unique_values\": 2,\n        \"samples\": [\n          1,\n          0\n        ],\n        \"semantic_type\": \"\",\n        \"description\": \"\"\n      }\n    }\n  ]\n}"
            }
          },
          "metadata": {},
          "execution_count": 25
        },
        {
          "output_type": "stream",
          "name": "stdout",
          "text": [
            "time: 27.1 ms (started: 2025-04-15 10:05:20 +00:00)\n"
          ]
        }
      ]
    },
    {
      "cell_type": "code",
      "source": [
        "# Shuffle the data to mix positive and negative comments\n",
        "real_data = real_data.sample(frac = 1)"
      ],
      "metadata": {
        "colab": {
          "base_uri": "https://localhost:8080/"
        },
        "id": "16R3HYOoto_Y",
        "outputId": "a6ad68fb-44e9-4dc9-8d46-63875328ea83"
      },
      "execution_count": 26,
      "outputs": [
        {
          "output_type": "stream",
          "name": "stdout",
          "text": [
            "time: 1.67 ms (started: 2025-04-15 10:05:20 +00:00)\n"
          ]
        }
      ]
    },
    {
      "cell_type": "code",
      "source": [
        "real_data"
      ],
      "metadata": {
        "colab": {
          "base_uri": "https://localhost:8080/",
          "height": 441
        },
        "id": "nNL8cv3dtsYk",
        "outputId": "039bc073-4f0b-4630-c2e6-ac49556def51"
      },
      "execution_count": 27,
      "outputs": [
        {
          "output_type": "execute_result",
          "data": {
            "text/plain": [
              "                                               comment  label\n",
              "423                                 go to this website      1\n",
              "281                           I  love  Billie eilish?;      0\n",
              "31   I was imagining birds of feather MV is billie ...      0\n",
              "96   When you are being pulled into a situation fro...      0\n",
              "410      my new podcast at youtbue channel. Watch here      1\n",
              "..                                                 ...    ...\n",
              "101  Fact: Billie Eilish is melting everyone's hear...      0\n",
              "447            buy new iphone for free at www.free.com      1\n",
              "267                            What a beautiful song!;      0\n",
              "284                                    THAT FACE CARD;      0\n",
              "223  Before watching this I was expecting her to be...      0\n",
              "\n",
              "[450 rows x 2 columns]"
            ],
            "text/html": [
              "\n",
              "  <div id=\"df-94519232-e687-4d98-9f15-2ca615cafdbd\" class=\"colab-df-container\">\n",
              "    <div>\n",
              "<style scoped>\n",
              "    .dataframe tbody tr th:only-of-type {\n",
              "        vertical-align: middle;\n",
              "    }\n",
              "\n",
              "    .dataframe tbody tr th {\n",
              "        vertical-align: top;\n",
              "    }\n",
              "\n",
              "    .dataframe thead th {\n",
              "        text-align: right;\n",
              "    }\n",
              "</style>\n",
              "<table border=\"1\" class=\"dataframe\">\n",
              "  <thead>\n",
              "    <tr style=\"text-align: right;\">\n",
              "      <th></th>\n",
              "      <th>comment</th>\n",
              "      <th>label</th>\n",
              "    </tr>\n",
              "  </thead>\n",
              "  <tbody>\n",
              "    <tr>\n",
              "      <th>423</th>\n",
              "      <td>go to this website</td>\n",
              "      <td>1</td>\n",
              "    </tr>\n",
              "    <tr>\n",
              "      <th>281</th>\n",
              "      <td>I  love  Billie eilish?;</td>\n",
              "      <td>0</td>\n",
              "    </tr>\n",
              "    <tr>\n",
              "      <th>31</th>\n",
              "      <td>I was imagining birds of feather MV is billie ...</td>\n",
              "      <td>0</td>\n",
              "    </tr>\n",
              "    <tr>\n",
              "      <th>96</th>\n",
              "      <td>When you are being pulled into a situation fro...</td>\n",
              "      <td>0</td>\n",
              "    </tr>\n",
              "    <tr>\n",
              "      <th>410</th>\n",
              "      <td>my new podcast at youtbue channel. Watch here</td>\n",
              "      <td>1</td>\n",
              "    </tr>\n",
              "    <tr>\n",
              "      <th>...</th>\n",
              "      <td>...</td>\n",
              "      <td>...</td>\n",
              "    </tr>\n",
              "    <tr>\n",
              "      <th>101</th>\n",
              "      <td>Fact: Billie Eilish is melting everyone's hear...</td>\n",
              "      <td>0</td>\n",
              "    </tr>\n",
              "    <tr>\n",
              "      <th>447</th>\n",
              "      <td>buy new iphone for free at www.free.com</td>\n",
              "      <td>1</td>\n",
              "    </tr>\n",
              "    <tr>\n",
              "      <th>267</th>\n",
              "      <td>What a beautiful song!;</td>\n",
              "      <td>0</td>\n",
              "    </tr>\n",
              "    <tr>\n",
              "      <th>284</th>\n",
              "      <td>THAT FACE CARD;</td>\n",
              "      <td>0</td>\n",
              "    </tr>\n",
              "    <tr>\n",
              "      <th>223</th>\n",
              "      <td>Before watching this I was expecting her to be...</td>\n",
              "      <td>0</td>\n",
              "    </tr>\n",
              "  </tbody>\n",
              "</table>\n",
              "<p>450 rows × 2 columns</p>\n",
              "</div>\n",
              "    <div class=\"colab-df-buttons\">\n",
              "\n",
              "  <div class=\"colab-df-container\">\n",
              "    <button class=\"colab-df-convert\" onclick=\"convertToInteractive('df-94519232-e687-4d98-9f15-2ca615cafdbd')\"\n",
              "            title=\"Convert this dataframe to an interactive table.\"\n",
              "            style=\"display:none;\">\n",
              "\n",
              "  <svg xmlns=\"http://www.w3.org/2000/svg\" height=\"24px\" viewBox=\"0 -960 960 960\">\n",
              "    <path d=\"M120-120v-720h720v720H120Zm60-500h600v-160H180v160Zm220 220h160v-160H400v160Zm0 220h160v-160H400v160ZM180-400h160v-160H180v160Zm440 0h160v-160H620v160ZM180-180h160v-160H180v160Zm440 0h160v-160H620v160Z\"/>\n",
              "  </svg>\n",
              "    </button>\n",
              "\n",
              "  <style>\n",
              "    .colab-df-container {\n",
              "      display:flex;\n",
              "      gap: 12px;\n",
              "    }\n",
              "\n",
              "    .colab-df-convert {\n",
              "      background-color: #E8F0FE;\n",
              "      border: none;\n",
              "      border-radius: 50%;\n",
              "      cursor: pointer;\n",
              "      display: none;\n",
              "      fill: #1967D2;\n",
              "      height: 32px;\n",
              "      padding: 0 0 0 0;\n",
              "      width: 32px;\n",
              "    }\n",
              "\n",
              "    .colab-df-convert:hover {\n",
              "      background-color: #E2EBFA;\n",
              "      box-shadow: 0px 1px 2px rgba(60, 64, 67, 0.3), 0px 1px 3px 1px rgba(60, 64, 67, 0.15);\n",
              "      fill: #174EA6;\n",
              "    }\n",
              "\n",
              "    .colab-df-buttons div {\n",
              "      margin-bottom: 4px;\n",
              "    }\n",
              "\n",
              "    [theme=dark] .colab-df-convert {\n",
              "      background-color: #3B4455;\n",
              "      fill: #D2E3FC;\n",
              "    }\n",
              "\n",
              "    [theme=dark] .colab-df-convert:hover {\n",
              "      background-color: #434B5C;\n",
              "      box-shadow: 0px 1px 3px 1px rgba(0, 0, 0, 0.15);\n",
              "      filter: drop-shadow(0px 1px 2px rgba(0, 0, 0, 0.3));\n",
              "      fill: #FFFFFF;\n",
              "    }\n",
              "  </style>\n",
              "\n",
              "    <script>\n",
              "      const buttonEl =\n",
              "        document.querySelector('#df-94519232-e687-4d98-9f15-2ca615cafdbd button.colab-df-convert');\n",
              "      buttonEl.style.display =\n",
              "        google.colab.kernel.accessAllowed ? 'block' : 'none';\n",
              "\n",
              "      async function convertToInteractive(key) {\n",
              "        const element = document.querySelector('#df-94519232-e687-4d98-9f15-2ca615cafdbd');\n",
              "        const dataTable =\n",
              "          await google.colab.kernel.invokeFunction('convertToInteractive',\n",
              "                                                    [key], {});\n",
              "        if (!dataTable) return;\n",
              "\n",
              "        const docLinkHtml = 'Like what you see? Visit the ' +\n",
              "          '<a target=\"_blank\" href=https://colab.research.google.com/notebooks/data_table.ipynb>data table notebook</a>'\n",
              "          + ' to learn more about interactive tables.';\n",
              "        element.innerHTML = '';\n",
              "        dataTable['output_type'] = 'display_data';\n",
              "        await google.colab.output.renderOutput(dataTable, element);\n",
              "        const docLink = document.createElement('div');\n",
              "        docLink.innerHTML = docLinkHtml;\n",
              "        element.appendChild(docLink);\n",
              "      }\n",
              "    </script>\n",
              "  </div>\n",
              "\n",
              "\n",
              "<div id=\"df-5d7d0b7d-8b24-403f-b77a-8bfd063c86e8\">\n",
              "  <button class=\"colab-df-quickchart\" onclick=\"quickchart('df-5d7d0b7d-8b24-403f-b77a-8bfd063c86e8')\"\n",
              "            title=\"Suggest charts\"\n",
              "            style=\"display:none;\">\n",
              "\n",
              "<svg xmlns=\"http://www.w3.org/2000/svg\" height=\"24px\"viewBox=\"0 0 24 24\"\n",
              "     width=\"24px\">\n",
              "    <g>\n",
              "        <path d=\"M19 3H5c-1.1 0-2 .9-2 2v14c0 1.1.9 2 2 2h14c1.1 0 2-.9 2-2V5c0-1.1-.9-2-2-2zM9 17H7v-7h2v7zm4 0h-2V7h2v10zm4 0h-2v-4h2v4z\"/>\n",
              "    </g>\n",
              "</svg>\n",
              "  </button>\n",
              "\n",
              "<style>\n",
              "  .colab-df-quickchart {\n",
              "      --bg-color: #E8F0FE;\n",
              "      --fill-color: #1967D2;\n",
              "      --hover-bg-color: #E2EBFA;\n",
              "      --hover-fill-color: #174EA6;\n",
              "      --disabled-fill-color: #AAA;\n",
              "      --disabled-bg-color: #DDD;\n",
              "  }\n",
              "\n",
              "  [theme=dark] .colab-df-quickchart {\n",
              "      --bg-color: #3B4455;\n",
              "      --fill-color: #D2E3FC;\n",
              "      --hover-bg-color: #434B5C;\n",
              "      --hover-fill-color: #FFFFFF;\n",
              "      --disabled-bg-color: #3B4455;\n",
              "      --disabled-fill-color: #666;\n",
              "  }\n",
              "\n",
              "  .colab-df-quickchart {\n",
              "    background-color: var(--bg-color);\n",
              "    border: none;\n",
              "    border-radius: 50%;\n",
              "    cursor: pointer;\n",
              "    display: none;\n",
              "    fill: var(--fill-color);\n",
              "    height: 32px;\n",
              "    padding: 0;\n",
              "    width: 32px;\n",
              "  }\n",
              "\n",
              "  .colab-df-quickchart:hover {\n",
              "    background-color: var(--hover-bg-color);\n",
              "    box-shadow: 0 1px 2px rgba(60, 64, 67, 0.3), 0 1px 3px 1px rgba(60, 64, 67, 0.15);\n",
              "    fill: var(--button-hover-fill-color);\n",
              "  }\n",
              "\n",
              "  .colab-df-quickchart-complete:disabled,\n",
              "  .colab-df-quickchart-complete:disabled:hover {\n",
              "    background-color: var(--disabled-bg-color);\n",
              "    fill: var(--disabled-fill-color);\n",
              "    box-shadow: none;\n",
              "  }\n",
              "\n",
              "  .colab-df-spinner {\n",
              "    border: 2px solid var(--fill-color);\n",
              "    border-color: transparent;\n",
              "    border-bottom-color: var(--fill-color);\n",
              "    animation:\n",
              "      spin 1s steps(1) infinite;\n",
              "  }\n",
              "\n",
              "  @keyframes spin {\n",
              "    0% {\n",
              "      border-color: transparent;\n",
              "      border-bottom-color: var(--fill-color);\n",
              "      border-left-color: var(--fill-color);\n",
              "    }\n",
              "    20% {\n",
              "      border-color: transparent;\n",
              "      border-left-color: var(--fill-color);\n",
              "      border-top-color: var(--fill-color);\n",
              "    }\n",
              "    30% {\n",
              "      border-color: transparent;\n",
              "      border-left-color: var(--fill-color);\n",
              "      border-top-color: var(--fill-color);\n",
              "      border-right-color: var(--fill-color);\n",
              "    }\n",
              "    40% {\n",
              "      border-color: transparent;\n",
              "      border-right-color: var(--fill-color);\n",
              "      border-top-color: var(--fill-color);\n",
              "    }\n",
              "    60% {\n",
              "      border-color: transparent;\n",
              "      border-right-color: var(--fill-color);\n",
              "    }\n",
              "    80% {\n",
              "      border-color: transparent;\n",
              "      border-right-color: var(--fill-color);\n",
              "      border-bottom-color: var(--fill-color);\n",
              "    }\n",
              "    90% {\n",
              "      border-color: transparent;\n",
              "      border-bottom-color: var(--fill-color);\n",
              "    }\n",
              "  }\n",
              "</style>\n",
              "\n",
              "  <script>\n",
              "    async function quickchart(key) {\n",
              "      const quickchartButtonEl =\n",
              "        document.querySelector('#' + key + ' button');\n",
              "      quickchartButtonEl.disabled = true;  // To prevent multiple clicks.\n",
              "      quickchartButtonEl.classList.add('colab-df-spinner');\n",
              "      try {\n",
              "        const charts = await google.colab.kernel.invokeFunction(\n",
              "            'suggestCharts', [key], {});\n",
              "      } catch (error) {\n",
              "        console.error('Error during call to suggestCharts:', error);\n",
              "      }\n",
              "      quickchartButtonEl.classList.remove('colab-df-spinner');\n",
              "      quickchartButtonEl.classList.add('colab-df-quickchart-complete');\n",
              "    }\n",
              "    (() => {\n",
              "      let quickchartButtonEl =\n",
              "        document.querySelector('#df-5d7d0b7d-8b24-403f-b77a-8bfd063c86e8 button');\n",
              "      quickchartButtonEl.style.display =\n",
              "        google.colab.kernel.accessAllowed ? 'block' : 'none';\n",
              "    })();\n",
              "  </script>\n",
              "</div>\n",
              "    </div>\n",
              "  </div>\n"
            ],
            "application/vnd.google.colaboratory.intrinsic+json": {
              "type": "dataframe",
              "variable_name": "real_data",
              "summary": "{\n  \"name\": \"real_data\",\n  \"rows\": 450,\n  \"fields\": [\n    {\n      \"column\": \"comment\",\n      \"properties\": {\n        \"dtype\": \"string\",\n        \"num_unique_values\": 447,\n        \"samples\": [\n          \"Billie deserved the award.. but the goodness is that we all know it????;\",\n          \"If spring had a song\",\n          \"She\\u2019s too pretty omg;\"\n        ],\n        \"semantic_type\": \"\",\n        \"description\": \"\"\n      }\n    },\n    {\n      \"column\": \"label\",\n      \"properties\": {\n        \"dtype\": \"number\",\n        \"std\": 0,\n        \"min\": 0,\n        \"max\": 1,\n        \"num_unique_values\": 2,\n        \"samples\": [\n          0,\n          1\n        ],\n        \"semantic_type\": \"\",\n        \"description\": \"\"\n      }\n    }\n  ]\n}"
            }
          },
          "metadata": {},
          "execution_count": 27
        },
        {
          "output_type": "stream",
          "name": "stdout",
          "text": [
            "time: 15 ms (started: 2025-04-15 10:05:20 +00:00)\n"
          ]
        }
      ]
    },
    {
      "cell_type": "code",
      "source": [
        "X_test_new = real_data['comment']\n",
        "y_test_new = real_data['label']"
      ],
      "metadata": {
        "colab": {
          "base_uri": "https://localhost:8080/"
        },
        "id": "MoFzp8lupVbF",
        "outputId": "bf4a146b-ed1d-42af-c81f-d7d1669a77c7"
      },
      "execution_count": 28,
      "outputs": [
        {
          "output_type": "stream",
          "name": "stdout",
          "text": [
            "time: 721 µs (started: 2025-04-15 10:05:21 +00:00)\n"
          ]
        }
      ]
    },
    {
      "cell_type": "code",
      "source": [
        "v_test_new=vectorizer.transform(X_test_new)\n",
        "print(v_test_new.shape)\n",
        "print(v_test_new.toarray())"
      ],
      "metadata": {
        "colab": {
          "base_uri": "https://localhost:8080/"
        },
        "id": "cQSkTknltX59",
        "outputId": "ab7d4597-588b-4819-f7bc-d9c918ec9270"
      },
      "execution_count": 29,
      "outputs": [
        {
          "output_type": "stream",
          "name": "stdout",
          "text": [
            "(450, 4454)\n",
            "[[0. 0. 0. ... 0. 0. 0.]\n",
            " [0. 0. 0. ... 0. 0. 0.]\n",
            " [0. 0. 0. ... 0. 0. 0.]\n",
            " ...\n",
            " [0. 0. 0. ... 0. 0. 0.]\n",
            " [0. 0. 0. ... 0. 0. 0.]\n",
            " [0. 0. 0. ... 0. 0. 0.]]\n",
            "time: 20.5 ms (started: 2025-04-15 10:05:21 +00:00)\n"
          ]
        }
      ]
    },
    {
      "cell_type": "code",
      "source": [
        "precisions = []\n",
        "F1 = []\n",
        "train_error = []\n",
        "recall = []\n",
        "AUC = []\n",
        "accuracy = []\n",
        "\n",
        "y_pred = voting_classifier.predict(v_test_new)\n",
        "\n",
        "# Confusion Matrix\n",
        "cm0 = confusion_matrix(y_train, y_train_pred)\n",
        "cm = confusion_matrix(y_test_new, y_pred)\n",
        "\n",
        "# Accuracy\n",
        "accuracy.append(accuracy_score(y_train, y_train_pred))\n",
        "accuracy.append(accuracy_score(y_test_new, y_pred))\n",
        "\n",
        "# Precision\n",
        "precisions.append(precision_score(y_train, y_train_pred))\n",
        "precisions.append(precision_score(y_test_new, y_pred))\n",
        "\n",
        "# Recall\n",
        "recall.append(recall_score(y_train, y_train_pred))\n",
        "recall.append(recall_score(y_test_new, y_pred))\n",
        "\n",
        "#F1 score\n",
        "F1.append(f1_score(y_train, y_train_pred))\n",
        "F1.append(f1_score(y_test_new, y_pred))\n",
        "\n",
        "# AUC\n",
        "AUC.append(roc_auc_score(y_train, y_train_pred))\n",
        "AUC.append(roc_auc_score(y_test_new, y_pred))\n",
        "\n",
        " # ROC\n",
        "fpr0, tpr0, thresholds0 = roc_curve(y_train, y_train_pred)\n",
        "fpr, tpr, thresholds = roc_curve(y_test_new, y_pred)\n",
        "plt.plot(fpr0, tpr0, '#2178b5', label='ROC for Training')\n",
        "plt.plot(fpr, tpr, '#ff8f2c', label='ROC for Test')\n",
        "plt.legend()\n",
        "\n",
        "plt.title('ROC curve')\n",
        "plt.xlabel('False Positive Rate')\n",
        "plt.ylabel('True Positive Rate')\n",
        "\n",
        "print('Confusion Table for train:')\n",
        "headings = ['Predicted Positive', 'Predicted Negative']\n",
        "names = ['Actual Positive', 'Actual Negative']\n",
        "df = pd.DataFrame(cm0, index=names, columns=headings)\n",
        "display(df.style.highlight_max(color = 'lightblue', axis = 0))\n",
        "\n",
        "print(' ')\n",
        "print(' ')\n",
        "print(' ')\n",
        "print(' ')\n",
        "print('Confusion table for test:')\n",
        "headings = ['Predicted Positive', 'Predicted Negative']\n",
        "names = ['Actual Positive', 'Actual Negative']\n",
        "df = pd.DataFrame(cm, index=names, columns=headings)\n",
        "display(df.style.highlight_max(color = 'lightblue', axis = 0))\n",
        "\n",
        "print(' ')\n",
        "print(' ')\n",
        "print(' ')\n",
        "print(' ')\n",
        "print('Metrics for MLP classifier:')\n",
        "headings = ['Accuracy', 'Precision', 'Recall', 'F1', 'AUC']\n",
        "names = ['Train','Test']\n",
        "numpy_data=np.array([accuracy, precisions, recall, F1, AUC]).T\n",
        "df = pd.DataFrame(data=numpy_data, index=names, columns=headings)\n",
        "display(df.style.highlight_max(color = 'lightgreen', axis = 0))\n",
        "print(' ')\n",
        "print(' ')\n",
        "print(' ')\n",
        "print(' ')"
      ],
      "metadata": {
        "colab": {
          "base_uri": "https://localhost:8080/",
          "height": 1000
        },
        "id": "C7zU97fKtX8g",
        "outputId": "51220741-d792-4bc6-ac0a-998c9fdc253f"
      },
      "execution_count": 30,
      "outputs": [
        {
          "output_type": "stream",
          "name": "stdout",
          "text": [
            "Confusion Table for train:\n"
          ]
        },
        {
          "output_type": "display_data",
          "data": {
            "text/plain": [
              "<pandas.io.formats.style.Styler at 0x7f010c6c7010>"
            ],
            "text/html": [
              "<style type=\"text/css\">\n",
              "#T_97d66_row0_col0, #T_97d66_row1_col1 {\n",
              "  background-color: lightblue;\n",
              "}\n",
              "</style>\n",
              "<table id=\"T_97d66\" class=\"dataframe\">\n",
              "  <thead>\n",
              "    <tr>\n",
              "      <th class=\"blank level0\" >&nbsp;</th>\n",
              "      <th id=\"T_97d66_level0_col0\" class=\"col_heading level0 col0\" >Predicted Positive</th>\n",
              "      <th id=\"T_97d66_level0_col1\" class=\"col_heading level0 col1\" >Predicted Negative</th>\n",
              "    </tr>\n",
              "  </thead>\n",
              "  <tbody>\n",
              "    <tr>\n",
              "      <th id=\"T_97d66_level0_row0\" class=\"row_heading level0 row0\" >Actual Positive</th>\n",
              "      <td id=\"T_97d66_row0_col0\" class=\"data row0 col0\" >775</td>\n",
              "      <td id=\"T_97d66_row0_col1\" class=\"data row0 col1\" >0</td>\n",
              "    </tr>\n",
              "    <tr>\n",
              "      <th id=\"T_97d66_level0_row1\" class=\"row_heading level0 row1\" >Actual Negative</th>\n",
              "      <td id=\"T_97d66_row1_col0\" class=\"data row1 col0\" >0</td>\n",
              "      <td id=\"T_97d66_row1_col1\" class=\"data row1 col1\" >789</td>\n",
              "    </tr>\n",
              "  </tbody>\n",
              "</table>\n"
            ]
          },
          "metadata": {}
        },
        {
          "output_type": "stream",
          "name": "stdout",
          "text": [
            " \n",
            " \n",
            " \n",
            " \n",
            "Confusion table for test:\n"
          ]
        },
        {
          "output_type": "display_data",
          "data": {
            "text/plain": [
              "<pandas.io.formats.style.Styler at 0x7f01169c3d50>"
            ],
            "text/html": [
              "<style type=\"text/css\">\n",
              "#T_ad839_row0_col0, #T_ad839_row1_col1 {\n",
              "  background-color: lightblue;\n",
              "}\n",
              "</style>\n",
              "<table id=\"T_ad839\" class=\"dataframe\">\n",
              "  <thead>\n",
              "    <tr>\n",
              "      <th class=\"blank level0\" >&nbsp;</th>\n",
              "      <th id=\"T_ad839_level0_col0\" class=\"col_heading level0 col0\" >Predicted Positive</th>\n",
              "      <th id=\"T_ad839_level0_col1\" class=\"col_heading level0 col1\" >Predicted Negative</th>\n",
              "    </tr>\n",
              "  </thead>\n",
              "  <tbody>\n",
              "    <tr>\n",
              "      <th id=\"T_ad839_level0_row0\" class=\"row_heading level0 row0\" >Actual Positive</th>\n",
              "      <td id=\"T_ad839_row0_col0\" class=\"data row0 col0\" >393</td>\n",
              "      <td id=\"T_ad839_row0_col1\" class=\"data row0 col1\" >7</td>\n",
              "    </tr>\n",
              "    <tr>\n",
              "      <th id=\"T_ad839_level0_row1\" class=\"row_heading level0 row1\" >Actual Negative</th>\n",
              "      <td id=\"T_ad839_row1_col0\" class=\"data row1 col0\" >12</td>\n",
              "      <td id=\"T_ad839_row1_col1\" class=\"data row1 col1\" >38</td>\n",
              "    </tr>\n",
              "  </tbody>\n",
              "</table>\n"
            ]
          },
          "metadata": {}
        },
        {
          "output_type": "stream",
          "name": "stdout",
          "text": [
            " \n",
            " \n",
            " \n",
            " \n",
            "Metrics for MLP classifier:\n"
          ]
        },
        {
          "output_type": "display_data",
          "data": {
            "text/plain": [
              "<pandas.io.formats.style.Styler at 0x7f01169c2910>"
            ],
            "text/html": [
              "<style type=\"text/css\">\n",
              "#T_884f9_row0_col0, #T_884f9_row0_col1, #T_884f9_row0_col2, #T_884f9_row0_col3, #T_884f9_row0_col4 {\n",
              "  background-color: lightgreen;\n",
              "}\n",
              "</style>\n",
              "<table id=\"T_884f9\" class=\"dataframe\">\n",
              "  <thead>\n",
              "    <tr>\n",
              "      <th class=\"blank level0\" >&nbsp;</th>\n",
              "      <th id=\"T_884f9_level0_col0\" class=\"col_heading level0 col0\" >Accuracy</th>\n",
              "      <th id=\"T_884f9_level0_col1\" class=\"col_heading level0 col1\" >Precision</th>\n",
              "      <th id=\"T_884f9_level0_col2\" class=\"col_heading level0 col2\" >Recall</th>\n",
              "      <th id=\"T_884f9_level0_col3\" class=\"col_heading level0 col3\" >F1</th>\n",
              "      <th id=\"T_884f9_level0_col4\" class=\"col_heading level0 col4\" >AUC</th>\n",
              "    </tr>\n",
              "  </thead>\n",
              "  <tbody>\n",
              "    <tr>\n",
              "      <th id=\"T_884f9_level0_row0\" class=\"row_heading level0 row0\" >Train</th>\n",
              "      <td id=\"T_884f9_row0_col0\" class=\"data row0 col0\" >1.000000</td>\n",
              "      <td id=\"T_884f9_row0_col1\" class=\"data row0 col1\" >1.000000</td>\n",
              "      <td id=\"T_884f9_row0_col2\" class=\"data row0 col2\" >1.000000</td>\n",
              "      <td id=\"T_884f9_row0_col3\" class=\"data row0 col3\" >1.000000</td>\n",
              "      <td id=\"T_884f9_row0_col4\" class=\"data row0 col4\" >1.000000</td>\n",
              "    </tr>\n",
              "    <tr>\n",
              "      <th id=\"T_884f9_level0_row1\" class=\"row_heading level0 row1\" >Test</th>\n",
              "      <td id=\"T_884f9_row1_col0\" class=\"data row1 col0\" >0.957778</td>\n",
              "      <td id=\"T_884f9_row1_col1\" class=\"data row1 col1\" >0.844444</td>\n",
              "      <td id=\"T_884f9_row1_col2\" class=\"data row1 col2\" >0.760000</td>\n",
              "      <td id=\"T_884f9_row1_col3\" class=\"data row1 col3\" >0.800000</td>\n",
              "      <td id=\"T_884f9_row1_col4\" class=\"data row1 col4\" >0.871250</td>\n",
              "    </tr>\n",
              "  </tbody>\n",
              "</table>\n"
            ]
          },
          "metadata": {}
        },
        {
          "output_type": "stream",
          "name": "stdout",
          "text": [
            " \n",
            " \n",
            " \n",
            " \n"
          ]
        },
        {
          "output_type": "display_data",
          "data": {
            "text/plain": [
              "<Figure size 640x480 with 1 Axes>"
            ],
            "image/png": "[encoded data removed]"
          },
          "metadata": {}
        },
        {
          "output_type": "stream",
          "name": "stdout",
          "text": [
            "time: 414 ms (started: 2025-04-15 10:05:21 +00:00)\n"
          ]
        }
      ]
    }
  ],
  "metadata": {
    "@webio": {
      "lastCommId": null,
      "lastKernelId": null
    },
    "colab": {
      "provenance": []
    },
    "kernelspec": {
      "display_name": "Python 3",
      "name": "python3"
    },
    "language_info": {
      "codemirror_mode": {
        "name": "ipython",
        "version": 3
      },
      "file_extension": ".py",
      "mimetype": "text/x-python",
      "name": "python",
      "nbconvert_exporter": "python",
      "pygments_lexer": "ipython3",
      "version": "3.10.9"
    }
  },
  "nbformat": 4,
  "nbformat_minor": 0
}